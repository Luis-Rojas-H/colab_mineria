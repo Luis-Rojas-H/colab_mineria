{
  "cells": [
    {
      "cell_type": "markdown",
      "metadata": {},
      "source": [
        "# 📚 EXAMEN PARCIAL CC442 - SOLUCIÓN COMPLETA\n",
        "## Minería de Datos (8vo Ciclo)\n",
        "\n",
        "**Fecha:** 2025  \n",
        "**Alumno:** Solución del Examen  \n",
        "**Total de puntos:** 100\n",
        "\n",
        "---\n",
        "\n",
        "## 🎯 Problemas a resolver:\n",
        "1. **[30 pts] Automobile Accidents** - Clasificación con Naive Bayes\n",
        "2. **[35 pts] Toyota Corolla Prices** - Regresión Lineal Múltiple  \n",
        "3. **[35 pts] Spam Detection** - Linear Discriminant Analysis (LDA)"
      ]
    },
    {
      "cell_type": "code",
      "execution_count": 1,
      "metadata": {},
      "outputs": [
        {
          "name": "stdout",
          "output_type": "stream",
          "text": [
            "Importaciones completadas\n"
          ]
        }
      ],
      "source": [
        "import pandas as pd\n",
        "import numpy as np\n",
        "import matplotlib.pyplot as plt\n",
        "import seaborn as sns\n",
        "from sklearn.model_selection import train_test_split\n",
        "from sklearn.naive_bayes import MultinomialNB\n",
        "from sklearn.linear_model import LinearRegression\n",
        "from sklearn.discriminant_analysis import LinearDiscriminantAnalysis\n",
        "from sklearn.metrics import confusion_matrix, classification_report, accuracy_score, mean_squared_error, r2_score\n",
        "import warnings\n",
        "warnings.filterwarnings(\"ignore\")\n",
        "print(\"Importaciones completadas\")"
      ]
    },
    {
      "cell_type": "markdown",
      "metadata": {},
      "source": [
        "---\n",
        "# PROBLEMA 1: AUTOMOBILE ACCIDENTS\n",
        "## Clasificación con Naive Bayes"
      ]
    },
    {
      "cell_type": "code",
      "execution_count": 2,
      "metadata": {},
      "outputs": [
        {
          "name": "stdout",
          "output_type": "stream",
          "text": [
            "Dataset: (42183, 24)\n",
            "INJURY\n",
            "yes    21462\n",
            "no     20721\n",
            "Name: count, dtype: int64\n"
          ]
        }
      ],
      "source": [
        "accidents_df = pd.read_csv(\"AccidentsFull.csv\")\n",
        "print(f\"Dataset: {accidents_df.shape}\")\n",
        "accidents_df[\"INJURY\"] = accidents_df[\"MAX_SEV_IR\"].apply(lambda x: \"yes\" if x in [1, 2] else \"no\")\n",
        "print(accidents_df[\"INJURY\"].value_counts())"
      ]
    },
    {
      "cell_type": "code",
      "execution_count": 3,
      "metadata": {},
      "outputs": [
        {
          "name": "stdout",
          "output_type": "stream",
          "text": [
            "Predicciones con Naive Bayes (12 registros):\n",
            "0: P(no)=0.7036, P(yes)=0.2964, Pred=no, Real=yes\n",
            "1: P(no)=0.6525, P(yes)=0.3475, Pred=no, Real=no\n",
            "2: P(no)=0.9938, P(yes)=0.0062, Pred=no, Real=no\n",
            "3: P(no)=0.9951, P(yes)=0.0049, Pred=no, Real=no\n",
            "4: P(no)=0.7036, P(yes)=0.2964, Pred=no, Real=no\n",
            "5: P(no)=0.6525, P(yes)=0.3475, Pred=no, Real=yes\n",
            "6: P(no)=0.6525, P(yes)=0.3475, Pred=no, Real=no\n",
            "7: P(no)=0.7036, P(yes)=0.2964, Pred=no, Real=yes\n",
            "8: P(no)=0.6525, P(yes)=0.3475, Pred=no, Real=no\n",
            "9: P(no)=0.6525, P(yes)=0.3475, Pred=no, Real=no\n",
            "10: P(no)=0.6525, P(yes)=0.3475, Pred=no, Real=no\n",
            "11: P(no)=0.9999, P(yes)=0.0001, Pred=no, Real=no\n"
          ]
        }
      ],
      "source": [
        "sample_12 = accidents_df[[\"INJURY\", \"WEATHER_R\", \"TRAF_CON_R\"]].head(12)\n",
        "X_12 = pd.get_dummies(sample_12[[\"WEATHER_R\", \"TRAF_CON_R\"]])\n",
        "y_12 = sample_12[\"INJURY\"]\n",
        "\n",
        "nb = MultinomialNB(alpha=0.01)\n",
        "nb.fit(X_12, y_12)\n",
        "proba = nb.predict_proba(X_12)\n",
        "pred = nb.predict(X_12)\n",
        "\n",
        "print(\"Predicciones con Naive Bayes (12 registros):\")\n",
        "for i in range(len(pred)):\n",
        "    print(f\"{i}: P(no)={proba[i,0]:.4f}, P(yes)={proba[i,1]:.4f}, Pred={pred[i]}, Real={y_12.iloc[i]}\")"
      ]
    },
    {
      "cell_type": "code",
      "execution_count": 4,
      "metadata": {},
      "outputs": [
        {
          "name": "stdout",
          "output_type": "stream",
          "text": [
            "Entrenamiento: 25309\n",
            "Validación: 16874\n",
            "\n",
            "Matriz de Confusión:\n",
            "[[ 901 7388]\n",
            " [ 701 7884]]\n",
            "\n",
            "Accuracy: 0.5206\n"
          ]
        }
      ],
      "source": [
        "X_full = pd.get_dummies(accidents_df[[\"WEATHER_R\", \"TRAF_CON_R\"]])\n",
        "y_full = accidents_df[\"INJURY\"]\n",
        "\n",
        "X_train, X_val, y_train, y_val = train_test_split(X_full, y_full, test_size=0.4, random_state=1, stratify=y_full)\n",
        "\n",
        "print(f\"Entrenamiento: {len(X_train)}\")\n",
        "print(f\"Validación: {len(X_val)}\")\n",
        "\n",
        "nb_full = MultinomialNB(alpha=0.01)\n",
        "nb_full.fit(X_train, y_train)\n",
        "\n",
        "y_pred = nb_full.predict(X_val)\n",
        "cm = confusion_matrix(y_val, y_pred, labels=[\"no\", \"yes\"])\n",
        "\n",
        "print(\"\\nMatriz de Confusión:\")\n",
        "print(cm)\n",
        "print(f\"\\nAccuracy: {accuracy_score(y_val, y_pred):.4f}\")"
      ]
    },
    {
      "cell_type": "markdown",
      "metadata": {},
      "source": [
        "---\n",
        "# PROBLEMA 2: TOYOTA COROLLA PRICES\n",
        "## Regresión Lineal Múltiple"
      ]
    },
    {
      "cell_type": "code",
      "execution_count": 6,
      "metadata": {},
      "outputs": [
        {
          "name": "stdout",
          "output_type": "stream",
          "text": [
            "Dataset: (1436, 39)\n",
            "Datos limpios: (1436, 16)\n",
            "Variables: (1436, 16)\n"
          ]
        }
      ],
      "source": [
        "toyota_df = pd.read_csv(\"ToyotaCorolla.csv\")\n",
        "print(f\"Dataset: {toyota_df.shape}\")\n",
        "\n",
        "predictores = [\"Age_08_04\", \"KM\", \"Fuel_Type\", \"HP\", \"Automatic\", \"Doors\", \"Quarterly_Tax\", \"Mfr_Guarantee\", \"Guarantee_Period\", \"Airco\", \"Automatic_airco\", \"CD_Player\", \"Powered_Windows\", \"Sport_Model\", \"Tow_Bar\"]\n",
        "\n",
        "toyota_clean = toyota_df[[\"Price\"] + predictores].dropna()\n",
        "print(f\"Datos limpios: {toyota_clean.shape}\")\n",
        "\n",
        "toyota_encoded = pd.get_dummies(toyota_clean, columns=[\"Fuel_Type\"], drop_first=True)\n",
        "X_toyota = toyota_encoded.drop(\"Price\", axis=1)\n",
        "y_toyota = toyota_encoded[\"Price\"]\n",
        "\n",
        "print(f\"Variables: {X_toyota.shape}\")"
      ]
    },
    {
      "cell_type": "code",
      "execution_count": 7,
      "metadata": {},
      "outputs": [
        {
          "name": "stdout",
          "output_type": "stream",
          "text": [
            "R² Train: 0.8892\n",
            "R² Val: 0.8876\n",
            "RMSE Val: 1,193.20\n"
          ]
        }
      ],
      "source": [
        "X_train_t, X_val_t, y_train_t, y_val_t = train_test_split(X_toyota, y_toyota, test_size=0.3, random_state=1)\n",
        "\n",
        "lr = LinearRegression()\n",
        "lr.fit(X_train_t, y_train_t)\n",
        "\n",
        "y_pred_train = lr.predict(X_train_t)\n",
        "y_pred_val = lr.predict(X_val_t)\n",
        "\n",
        "print(f\"R² Train: {lr.score(X_train_t, y_train_t):.4f}\")\n",
        "print(f\"R² Val: {lr.score(X_val_t, y_val_t):.4f}\")\n",
        "print(f\"RMSE Val: {np.sqrt(mean_squared_error(y_val_t, y_pred_val)):,.2f}\")"
      ]
    },
    {
      "cell_type": "code",
      "execution_count": 8,
      "metadata": {},
      "outputs": [
        {
          "name": "stdout",
          "output_type": "stream",
          "text": [
            "Top 5 predictores:\n",
            "           Predictor         Coef\n",
            "9    Automatic_airco  3057.278177\n",
            "15  Fuel_Type_Petrol  2207.252174\n",
            "14  Fuel_Type_Diesel  2065.210989\n",
            "3          Automatic   636.690827\n",
            "11   Powered_Windows   483.123756\n"
          ]
        }
      ],
      "source": [
        "coef_df = pd.DataFrame({\"Predictor\": X_toyota.columns, \"Coef\": lr.coef_}).sort_values(\"Coef\", key=abs, ascending=False)\n",
        "\n",
        "print(\"Top 5 predictores:\")\n",
        "print(coef_df.head(5))"
      ]
    },
    {
      "cell_type": "markdown",
      "metadata": {},
      "source": [
        "---\n",
        "# PROBLEMA 3: SPAM DETECTION\n",
        "## Linear Discriminant Analysis"
      ]
    },
    {
      "cell_type": "code",
      "execution_count": 9,
      "metadata": {},
      "outputs": [
        {
          "name": "stdout",
          "output_type": "stream",
          "text": [
            "Dataset: (4601, 58)\n",
            "Top 11 predictores que diferencian spam vs no-spam:\n",
            " 1. CAP_tot             : 309.148468\n",
            " 2. CAP_long            : 86.178780\n",
            " 3. CAP_avg             : 7.141864\n",
            " 4. george              : 1.263716\n",
            " 5. you                 : 0.994199\n",
            " 6. your                : 0.941668\n",
            " 7. hp                  : 0.877994\n",
            " 8. free                : 0.444775\n",
            " 9. hpl                 : 0.422822\n",
            "10. C!                  : 0.403729\n",
            "11. our                 : 0.332915\n"
          ]
        }
      ],
      "source": [
        "spam_df = pd.read_csv(\"spambase.csv\")\n",
        "print(f\"Dataset: {spam_df.shape}\")\n",
        "\n",
        "X_spam = spam_df.drop(\"Spam\", axis=1)\n",
        "y_spam = spam_df[\"Spam\"]\n",
        "\n",
        "spam_class = X_spam[y_spam == 1].mean()\n",
        "nonspam_class = X_spam[y_spam == 0].mean()\n",
        "\n",
        "diff = np.abs(spam_class - nonspam_class).sort_values(ascending=False)\n",
        "\n",
        "print(\"Top 11 predictores que diferencian spam vs no-spam:\")\n",
        "top_11 = diff.head(11)\n",
        "for i, (feat, val) in enumerate(top_11.items(), 1):\n",
        "    print(f\"{i:2d}. {feat:20s}: {val:.6f}\")"
      ]
    },
    {
      "cell_type": "code",
      "execution_count": 10,
      "metadata": {},
      "outputs": [
        {
          "name": "stdout",
          "output_type": "stream",
          "text": [
            "Matriz de Confusión LDA:\n",
            "[[775  62]\n",
            " [156 388]]\n",
            "\n",
            "Accuracy: 0.8421\n",
            "              precision    recall  f1-score   support\n",
            "\n",
            "     No-Spam       0.83      0.93      0.88       837\n",
            "        Spam       0.86      0.71      0.78       544\n",
            "\n",
            "    accuracy                           0.84      1381\n",
            "   macro avg       0.85      0.82      0.83      1381\n",
            "weighted avg       0.84      0.84      0.84      1381\n",
            "\n"
          ]
        }
      ],
      "source": [
        "top_11_preds = diff.head(11).index.tolist()\n",
        "X_spam_selected = X_spam[top_11_preds]\n",
        "\n",
        "X_train_spam, X_val_spam, y_train_spam, y_val_spam = train_test_split(X_spam_selected, y_spam, test_size=0.3, random_state=1, stratify=y_spam)\n",
        "\n",
        "lda = LinearDiscriminantAnalysis()\n",
        "lda.fit(X_train_spam, y_train_spam)\n",
        "\n",
        "y_pred_spam = lda.predict(X_val_spam)\n",
        "\n",
        "cm_spam = confusion_matrix(y_val_spam, y_pred_spam)\n",
        "\n",
        "print(\"Matriz de Confusión LDA:\")\n",
        "print(cm_spam)\n",
        "print(f\"\\nAccuracy: {accuracy_score(y_val_spam, y_pred_spam):.4f}\")\n",
        "print(classification_report(y_val_spam, y_pred_spam, target_names=[\"No-Spam\", \"Spam\"]))"
      ]
    },
    {
      "cell_type": "markdown",
      "metadata": {},
      "source": [
        "---\n",
        "## RESUMEN FINAL\n",
        "Examen Parcial CC442 - Todos los problemas resueltos"
      ]
    }
  ],
  "metadata": {
    "kernelspec": {
      "display_name": "Python 3",
      "language": "python",
      "name": "python3"
    },
    "language_info": {
      "codemirror_mode": {
        "name": "ipython",
        "version": 3
      },
      "file_extension": ".py",
      "mimetype": "text/x-python",
      "name": "python",
      "nbconvert_exporter": "python",
      "pygments_lexer": "ipython3",
      "version": "3.11.5"
    }
  },
  "nbformat": 4,
  "nbformat_minor": 2
}
