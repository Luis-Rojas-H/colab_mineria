{
  "nbformat": 4,
  "nbformat_minor": 2,
  "metadata": {
    "kernelspec": {
      "display_name": "Python 3",
      "language": "python",
      "name": "python3"
    }
  },
  "cells": [
    {
      "cell_type": "markdown",
      "metadata": {},
      "source": [
        "# EXAMEN PARCIAL CC442 - SOLUCI\u00d3N COMPLETA\n",
        "## Miner\u00eda de Datos (8vo Ciclo)\n",
        "### Problemas a resolver:\n",
        "1. Automobile Accidents (Naive Bayes)\n",
        "2. Toyota Corolla Prices (Regresi\u00f3n Lineal)\n",
        "3. Spam Detection (LDA)"
      ]
    },
    {
      "cell_type": "code",
      "execution_count": null,
      "metadata": {},
      "outputs": [],
      "source": [
        "import pandas as pd\nimport numpy as np\nimport matplotlib.pyplot as plt\nimport seaborn as sns\nfrom sklearn.model_selection import train_test_split\nfrom sklearn.naive_bayes import MultinomialNB\nfrom sklearn.linear_model import LinearRegression\nfrom sklearn.discriminant_analysis import LinearDiscriminantAnalysis\nfrom sklearn.metrics import confusion_matrix, classification_report, accuracy_score, mean_squared_error, r2_score\nimport warnings\nwarnings.filterwarnings(\"ignore\")\nprint(\"Importaciones completadas\")"
      ]
    },
    {
      "cell_type": "markdown",
      "metadata": {},
      "source": [
        "---\n",
        "# PROBLEMA 1: AUTOMOBILE ACCIDENTS\n",
        "## Clasificaci\u00f3n con Naive Bayes"
      ]
    },
    {
      "cell_type": "code",
      "execution_count": null,
      "metadata": {},
      "outputs": [],
      "source": [
        "accidents_df = pd.read_csv(\"AccidentsFull.csv\")\nprint(f\"Dataset: {accidents_df.shape}\")\naccidents_df[\"INJURY\"] = accidents_df[\"MAX_SEV_IR\"].apply(lambda x: \"yes\" if x in [1, 2] else \"no\")\nprint(accidents_df[\"INJURY\"].value_counts())"
      ]
    },
    {
      "cell_type": "code",
      "execution_count": null,
      "metadata": {},
      "outputs": [],
      "source": [
        "sample_12 = accidents_df[[\"INJURY\", \"WEATHER_R\", \"TRAF_CON_R\"]].head(12)\nX_12 = pd.get_dummies(sample_12[[\"WEATHER_R\", \"TRAF_CON_R\"]])\ny_12 = sample_12[\"INJURY\"]\n\nnb = MultinomialNB(alpha=0.01)\nnb.fit(X_12, y_12)\nproba = nb.predict_proba(X_12)\npred = nb.predict(X_12)\n\nprint(\"Predicciones con Naive Bayes (12 registros):\")\nfor i in range(len(pred)):\n    print(f\"{i}: P(no)={proba[i,0]:.4f}, P(yes)={proba[i,1]:.4f}, Pred={pred[i]}, Real={y_12.iloc[i]}\")"
      ]
    },
    {
      "cell_type": "code",
      "execution_count": null,
      "metadata": {},
      "outputs": [],
      "source": [
        "X_full = pd.get_dummies(accidents_df[[\"WEATHER_R\", \"TRAF_CON_R\"]])\ny_full = accidents_df[\"INJURY\"]\n\nX_train, X_val, y_train, y_val = train_test_split(X_full, y_full, test_size=0.4, random_state=1, stratify=y_full)\n\nprint(f\"Entrenamiento: {len(X_train)}\")\nprint(f\"Validaci\u00f3n: {len(X_val)}\")\n\nnb_full = MultinomialNB(alpha=0.01)\nnb_full.fit(X_train, y_train)\n\ny_pred = nb_full.predict(X_val)\ncm = confusion_matrix(y_val, y_pred, labels=[\"no\", \"yes\"])\n\nprint(\"\\nMatriz de Confusi\u00f3n:\")\nprint(cm)\nprint(f\"\\nAccuracy: {accuracy_score(y_val, y_pred):.4f}\")"
      ]
    },
    {
      "cell_type": "markdown",
      "metadata": {},
      "source": [
        "---\n",
        "# PROBLEMA 2: TOYOTA COROLLA PRICES\n",
        "## Regresi\u00f3n Lineal M\u00faltiple"
      ]
    },
    {
      "cell_type": "code",
      "execution_count": null,
      "metadata": {},
      "outputs": [],
      "source": [
        "toyota_df = pd.read_csv(\"ToyotaCorolla.csv\")\nprint(f\"Dataset: {toyota_df.shape}\")\n\npredictores = [\"Age_08_04\", \"KM\", \"Fuel_Type\", \"HP\", \"Automatic\", \"Doors\", \"Quarterly_Tax\", \"Mfr_Guarantee\", \"Guarantee_Period\", \"Airco\", \"Automatic_airco\", \"CD_Player\", \"Powered_Windows\", \"Sport_Model\", \"Tow_Bar\"]\n\ntoyota_clean = toyota_df[[\"Price\"] + predictores].dropna()\nprint(f\"Datos limpios: {toyota_clean.shape}\")\n\ntoyota_encoded = pd.get_dummies(toyota_clean, columns=[\"Fuel_Type\"], drop_first=True)\nX_toyota = toyota_encoded.drop(\"Price\", axis=1)\ny_toyota = toyota_encoded[\"Price\"]\n\nprint(f\"Variables: {X_toyota.shape}\")"
      ]
    },
    {
      "cell_type": "code",
      "execution_count": null,
      "metadata": {},
      "outputs": [],
      "source": [
        "X_train_t, X_val_t, y_train_t, y_val_t = train_test_split(X_toyota, y_toyota, test_size=0.3, random_state=1)\n\nlr = LinearRegression()\nlr.fit(X_train_t, y_train_t)\n\ny_pred_train = lr.predict(X_train_t)\ny_pred_val = lr.predict(X_val_t)\n\nprint(f\"R\u00b2 Train: {lr.score(X_train_t, y_train_t):.4f}\")\nprint(f\"R\u00b2 Val: {lr.score(X_val_t, y_val_t):.4f}\")\nprint(f\"RMSE Val: {np.sqrt(mean_squared_error(y_val_t, y_pred_val)):,.2f}\")"
      ]
    },
    {
      "cell_type": "code",
      "execution_count": null,
      "metadata": {},
      "outputs": [],
      "source": [
        "coef_df = pd.DataFrame({\"Predictor\": X_toyota.columns, \"Coef\": lr.coef_}).sort_values(\"Coef\", key=abs, ascending=False)\n\nprint(\"Top 5 predictores:\")\nprint(coef_df.head(5))"
      ]
    },
    {
      "cell_type": "markdown",
      "metadata": {},
      "source": [
        "---\n",
        "# PROBLEMA 3: SPAM DETECTION\n",
        "## Linear Discriminant Analysis"
      ]
    },
    {
      "cell_type": "code",
      "execution_count": null,
      "metadata": {},
      "outputs": [],
      "source": [
        "spam_df = pd.read_csv(\"spambase.csv\")\nprint(f\"Dataset: {spam_df.shape}\")\n\nX_spam = spam_df.drop(\"Spam\", axis=1)\ny_spam = spam_df[\"Spam\"]\n\nspam_class = X_spam[y_spam == 1].mean()\nnonspam_class = X_spam[y_spam == 0].mean()\n\ndiff = np.abs(spam_class - nonspam_class).sort_values(ascending=False)\n\nprint(\"Top 11 predictores que diferencian spam vs no-spam:\")\ntop_11 = diff.head(11)\nfor i, (feat, val) in enumerate(top_11.items(), 1):\n    print(f\"{i:2d}. {feat:20s}: {val:.6f}\")"
      ]
    },
    {
      "cell_type": "code",
      "execution_count": null,
      "metadata": {},
      "outputs": [],
      "source": [
        "top_11_preds = diff.head(11).index.tolist()\nX_spam_selected = X_spam[top_11_preds]\n\nX_train_spam, X_val_spam, y_train_spam, y_val_spam = train_test_split(X_spam_selected, y_spam, test_size=0.3, random_state=1, stratify=y_spam)\n\nlda = LinearDiscriminantAnalysis()\nlda.fit(X_train_spam, y_train_spam)\n\ny_pred_spam = lda.predict(X_val_spam)\n\ncm_spam = confusion_matrix(y_val_spam, y_pred_spam)\n\nprint(\"Matriz de Confusi\u00f3n LDA:\")\nprint(cm_spam)\nprint(f\"\\nAccuracy: {accuracy_score(y_val_spam, y_pred_spam):.4f}\")\nprint(classification_report(y_val_spam, y_pred_spam, target_names=[\"No-Spam\", \"Spam\"]))"
      ]
    },
    {
      "cell_type": "markdown",
      "metadata": {},
      "source": [
        "---\n",
        "## RESUMEN FINAL\n",
        "Examen Parcial CC442 - Todos los problemas resueltos"
      ]
    }
  ]
}