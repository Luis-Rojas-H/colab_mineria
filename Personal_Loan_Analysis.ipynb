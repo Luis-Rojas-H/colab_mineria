{
  "cells": [
    {
      "cell_type": "markdown",
      "metadata": {},
      "source": [
        "# Análisis de Aceptación de Préstamos Personales - Naive Bayes\n",
        "\n",
        "**Problema del libro: Data Mining for Business Analytics**\n",
        "\n",
        "El archivo UniversalBank.csv contiene datos de 5000 clientes del Universal Bank. Entre estos 5000 clientes, solo 480 (=9.6%) aceptaron el préstamo personal que se les ofreció en la campaña anterior.\n",
        "\n",
        "En este ejercicio nos enfocamos en dos predictores:\n",
        "- **Online**: si el cliente es usuario activo de servicios bancarios en línea\n",
        "- **CreditCard (CC)**: si el cliente tiene una tarjeta de crédito emitida por el banco\n",
        "\n",
        "Y el resultado:\n",
        "- **Personal Loan (Loan)**: si el cliente aceptó el préstamo personal\n"
      ]
    },
    {
      "cell_type": "markdown",
      "metadata": {},
      "source": [
        "## 1. Importar librerías necesarias\n"
      ]
    },
    {
      "cell_type": "code",
      "execution_count": 1,
      "metadata": {},
      "outputs": [
        {
          "name": "stderr",
          "output_type": "stream",
          "text": [
            "\n",
            "[notice] A new release of pip is available: 25.1.1 -> 25.2\n",
            "[notice] To update, run: python.exe -m pip install --upgrade pip\n"
          ]
        },
        {
          "name": "stdout",
          "output_type": "stream",
          "text": [
            "Defaulting to user installation because normal site-packages is not writeable\n",
            "Collecting dmba\n",
            "  Downloading dmba-0.2.4-py3-none-any.whl.metadata (1.9 kB)\n",
            "Collecting graphviz (from dmba)\n",
            "  Downloading graphviz-0.21-py3-none-any.whl.metadata (12 kB)\n",
            "Requirement already satisfied: matplotlib in c:\\users\\love_\\appdata\\roaming\\python\\python312\\site-packages (from dmba) (3.10.3)\n",
            "Requirement already satisfied: numpy in c:\\users\\love_\\appdata\\roaming\\python\\python312\\site-packages (from dmba) (2.1.3)\n",
            "Requirement already satisfied: pandas in c:\\users\\love_\\appdata\\roaming\\python\\python312\\site-packages (from dmba) (2.2.3)\n",
            "Requirement already satisfied: scikit-learn in c:\\users\\love_\\appdata\\roaming\\python\\python312\\site-packages (from dmba) (1.6.1)\n",
            "Requirement already satisfied: scipy in c:\\users\\love_\\appdata\\roaming\\python\\python312\\site-packages (from dmba) (1.15.3)\n",
            "Requirement already satisfied: contourpy>=1.0.1 in c:\\users\\love_\\appdata\\roaming\\python\\python312\\site-packages (from matplotlib->dmba) (1.3.2)\n",
            "Requirement already satisfied: cycler>=0.10 in c:\\users\\love_\\appdata\\roaming\\python\\python312\\site-packages (from matplotlib->dmba) (0.12.1)\n",
            "Requirement already satisfied: fonttools>=4.22.0 in c:\\users\\love_\\appdata\\roaming\\python\\python312\\site-packages (from matplotlib->dmba) (4.58.1)\n",
            "Requirement already satisfied: kiwisolver>=1.3.1 in c:\\users\\love_\\appdata\\roaming\\python\\python312\\site-packages (from matplotlib->dmba) (1.4.8)\n",
            "Requirement already satisfied: packaging>=20.0 in c:\\users\\love_\\appdata\\roaming\\python\\python312\\site-packages (from matplotlib->dmba) (24.0)\n",
            "Requirement already satisfied: pillow>=8 in c:\\users\\love_\\appdata\\roaming\\python\\python312\\site-packages (from matplotlib->dmba) (11.2.1)\n",
            "Requirement already satisfied: pyparsing>=2.3.1 in c:\\users\\love_\\appdata\\roaming\\python\\python312\\site-packages (from matplotlib->dmba) (3.2.3)\n",
            "Requirement already satisfied: python-dateutil>=2.7 in c:\\users\\love_\\appdata\\roaming\\python\\python312\\site-packages (from matplotlib->dmba) (2.9.0.post0)\n",
            "Requirement already satisfied: six>=1.5 in c:\\users\\love_\\appdata\\roaming\\python\\python312\\site-packages (from python-dateutil>=2.7->matplotlib->dmba) (1.17.0)\n",
            "Requirement already satisfied: pytz>=2020.1 in c:\\users\\love_\\appdata\\roaming\\python\\python312\\site-packages (from pandas->dmba) (2025.2)\n",
            "Requirement already satisfied: tzdata>=2022.7 in c:\\users\\love_\\appdata\\roaming\\python\\python312\\site-packages (from pandas->dmba) (2025.2)\n",
            "Requirement already satisfied: joblib>=1.2.0 in c:\\users\\love_\\appdata\\roaming\\python\\python312\\site-packages (from scikit-learn->dmba) (1.5.1)\n",
            "Requirement already satisfied: threadpoolctl>=3.1.0 in c:\\users\\love_\\appdata\\roaming\\python\\python312\\site-packages (from scikit-learn->dmba) (3.6.0)\n",
            "Downloading dmba-0.2.4-py3-none-any.whl (11.8 MB)\n",
            "   ---------------------------------------- 0.0/11.8 MB ? eta -:--:--\n",
            "   ------- -------------------------------- 2.4/11.8 MB 11.2 MB/s eta 0:00:01\n",
            "   ------------------- -------------------- 5.8/11.8 MB 13.6 MB/s eta 0:00:01\n",
            "   ----------------------------------- ---- 10.5/11.8 MB 16.8 MB/s eta 0:00:01\n",
            "   ---------------------------------------- 11.8/11.8 MB 14.8 MB/s eta 0:00:00\n",
            "Downloading graphviz-0.21-py3-none-any.whl (47 kB)\n",
            "Installing collected packages: graphviz, dmba\n",
            "\n",
            "   ---------------------------------------- 0/2 [graphviz]\n",
            "   ---------------------------------------- 0/2 [graphviz]\n",
            "   ---------------------------------------- 0/2 [graphviz]\n",
            "   ---------------------------------------- 0/2 [graphviz]\n",
            "   ---------------------------------------- 0/2 [graphviz]\n",
            "   ---------------------------------------- 0/2 [graphviz]\n",
            "   ---------------------------------------- 0/2 [graphviz]\n",
            "   -------------------- ------------------- 1/2 [dmba]\n",
            "   -------------------- ------------------- 1/2 [dmba]\n",
            "   -------------------- ------------------- 1/2 [dmba]\n",
            "   -------------------- ------------------- 1/2 [dmba]\n",
            "   -------------------- ------------------- 1/2 [dmba]\n",
            "   ---------------------------------------- 2/2 [dmba]\n",
            "\n",
            "Successfully installed dmba-0.2.4 graphviz-0.21\n"
          ]
        }
      ],
      "source": [
        "import pandas as pd\n",
        "import numpy as np\n",
        "from sklearn.model_selection import train_test_split\n",
        "from sklearn.naive_bayes import MultinomialNB\n",
        "import matplotlib.pyplot as plt\n",
        "import warnings\n",
        "warnings.filterwarnings('ignore')\n",
        "\n",
        "# Instalar dmba si no está instalado\n",
        "try:\n",
        "    from dmba import classificationSummary, gainsChart\n",
        "except ImportError:\n",
        "    !pip install dmba\n",
        "    from dmba import classificationSummary, gainsChart\n"
      ]
    },
    {
      "cell_type": "markdown",
      "metadata": {},
      "source": [
        "## 2. Cargar y examinar los datos\n"
      ]
    },
    {
      "cell_type": "code",
      "execution_count": null,
      "metadata": {},
      "outputs": [],
      "source": [
        "# Cargar los datos\n",
        "bank_df = pd.read_csv('UniversalBank.csv')\n",
        "\n",
        "# Examinar la estructura de los datos\n",
        "print(\"Forma de los datos:\", bank_df.shape)\n",
        "print(\"\\nPrimeras 5 filas:\")\n",
        "print(bank_df.head())\n",
        "\n",
        "print(\"\\nTipos de datos:\")\n",
        "print(bank_df.dtypes)\n",
        "\n",
        "print(\"\\nEstadísticas descriptivas de las variables relevantes:\")\n",
        "print(bank_df[['Online', 'CreditCard', 'Personal Loan']].describe())\n",
        "\n",
        "print(\"\\nDistribución de Personal Loan:\")\n",
        "print(bank_df['Personal Loan'].value_counts())\n",
        "print(\"\\nProporción de aceptación de préstamos:\")\n",
        "print(bank_df['Personal Loan'].value_counts(normalize=True))\n"
      ]
    },
    {
      "cell_type": "markdown",
      "metadata": {},
      "source": [
        "## 3. Particionar los datos en entrenamiento (60%) y validación (40%)\n"
      ]
    },
    {
      "cell_type": "code",
      "execution_count": null,
      "metadata": {},
      "outputs": [],
      "source": [
        "# Seleccionar las variables relevantes\n",
        "predictors = ['Online', 'CreditCard']\n",
        "outcome = 'Personal Loan'\n",
        "\n",
        "# Crear variables dummy para las variables categóricas\n",
        "X = pd.get_dummies(bank_df[predictors], drop_first=False)\n",
        "y = bank_df[outcome]\n",
        "\n",
        "# Particionar los datos\n",
        "X_train, X_valid, y_train, y_valid = train_test_split(X, y, test_size=0.40, random_state=1)\n",
        "\n",
        "print(\"Tamaño del conjunto de entrenamiento:\", X_train.shape[0])\n",
        "print(\"Tamaño del conjunto de validación:\", X_valid.shape[0])\n",
        "\n",
        "print(\"\\nDistribución de Personal Loan en entrenamiento:\")\n",
        "print(y_train.value_counts())\n",
        "print(\"\\nProporción en entrenamiento:\")\n",
        "print(y_train.value_counts(normalize=True))\n",
        "\n",
        "print(\"\\nDistribución de Personal Loan en validación:\")\n",
        "print(y_valid.value_counts())\n",
        "print(\"\\nProporción en validación:\")\n",
        "print(y_valid.value_counts(normalize=True))\n"
      ]
    },
    {
      "cell_type": "markdown",
      "metadata": {},
      "source": [
        "## 4. Crear tabla pivot para los datos de entrenamiento\n",
        "\n",
        "### a) Tabla pivot con Online como variable de columna, CC como variable de fila y Loan como variable de fila secundaria\n"
      ]
    },
    {
      "cell_type": "code",
      "execution_count": null,
      "metadata": {},
      "outputs": [],
      "source": [
        "# Crear un DataFrame de entrenamiento con las variables relevantes\n",
        "train_df = pd.DataFrame({\n",
        "    'Online': X_train['Online_1'],\n",
        "    'CC': X_train['CreditCard_1'],\n",
        "    'Loan': y_train\n",
        "})\n",
        "\n",
        "# Crear tabla pivot usando melt() y pivot()\n",
        "# Primero, crear una tabla con conteos\n",
        "pivot_data = train_df.groupby(['CC', 'Online', 'Loan']).size().reset_index(name='Count')\n",
        "\n",
        "# Usar pivot para crear la tabla final\n",
        "pivot_table = pivot_data.pivot_table(\n",
        "    index=['CC', 'Loan'], \n",
        "    columns='Online', \n",
        "    values='Count', \n",
        "    fill_value=0\n",
        ")\n",
        "\n",
        "print(\"Tabla pivot con Online como columnas, CC y Loan como filas:\")\n",
        "print(pivot_table)\n",
        "\n",
        "# Mostrar también la tabla con nombres más claros\n",
        "pivot_table_named = pivot_table.copy()\n",
        "pivot_table_named.index.names = ['CreditCard', 'PersonalLoan']\n",
        "pivot_table_named.columns = ['Online=0', 'Online=1']\n",
        "print(\"\\nTabla pivot con nombres descriptivos:\")\n",
        "print(pivot_table_named)\n"
      ]
    },
    {
      "cell_type": "markdown",
      "metadata": {},
      "source": [
        "### b) Calcular P(Loan = 1 | CC = 1, Online = 1)\n"
      ]
    },
    {
      "cell_type": "code",
      "execution_count": null,
      "metadata": {},
      "outputs": [],
      "source": [
        "# Calcular P(Loan = 1 | CC = 1, Online = 1) desde la tabla pivot\n",
        "# Esto es el conteo de (CC=1, Online=1, Loan=1) dividido por el total de (CC=1, Online=1)\n",
        "\n",
        "# Contar casos donde CC=1, Online=1, Loan=1\n",
        "loan_accept_cc_online = pivot_table.loc[(1, 1), 1]  # CC=1, Loan=1, Online=1\n",
        "\n",
        "# Contar total de casos donde CC=1, Online=1\n",
        "total_cc_online = pivot_table.loc[(1, 0), 1] + pivot_table.loc[(1, 1), 1]  # CC=1, Online=1 (tanto Loan=0 como Loan=1)\n",
        "\n",
        "prob_loan_given_cc_online = loan_accept_cc_online / total_cc_online\n",
        "\n",
        "print(f\"Casos con CC=1, Online=1, Loan=1: {loan_accept_cc_online}\")\n",
        "print(f\"Total casos con CC=1, Online=1: {total_cc_online}\")\n",
        "print(f\"P(Loan = 1 | CC = 1, Online = 1) = {prob_loan_given_cc_online:.4f}\")\n",
        "\n",
        "# Verificar con cálculo directo\n",
        "mask = (train_df['CC'] == 1) & (train_df['Online'] == 1)\n",
        "subset = train_df[mask]\n",
        "prob_direct = subset['Loan'].mean()\n",
        "print(f\"\\nVerificación directa: P(Loan = 1 | CC = 1, Online = 1) = {prob_direct:.4f}\")\n"
      ]
    },
    {
      "cell_type": "markdown",
      "metadata": {},
      "source": [
        "### c) Crear dos tablas pivot separadas\n"
      ]
    },
    {
      "cell_type": "code",
      "execution_count": null,
      "metadata": {},
      "outputs": [],
      "source": [
        "# Tabla pivot 1: Loan (filas) como función de Online (columnas)\n",
        "pivot_loan_online = train_df.groupby(['Loan', 'Online']).size().unstack(fill_value=0)\n",
        "print(\"Tabla pivot: Loan vs Online\")\n",
        "print(pivot_loan_online)\n",
        "\n",
        "# Tabla pivot 2: Loan (filas) como función de CC (columnas)\n",
        "pivot_loan_cc = train_df.groupby(['Loan', 'CC']).size().unstack(fill_value=0)\n",
        "print(\"\\nTabla pivot: Loan vs CreditCard\")\n",
        "print(pivot_loan_cc)\n"
      ]
    },
    {
      "cell_type": "markdown",
      "metadata": {},
      "source": [
        "### d) Calcular las probabilidades condicionales requeridas\n"
      ]
    },
    {
      "cell_type": "code",
      "execution_count": null,
      "metadata": {},
      "outputs": [],
      "source": [
        "# Calcular todas las probabilidades requeridas\n",
        "\n",
        "# P(CC = 1 | Loan = 1) - proporción de titulares de tarjeta de crédito entre los que aceptaron préstamos\n",
        "p_cc1_given_loan1 = pivot_loan_cc.loc[1, 1] / pivot_loan_cc.loc[1, :].sum()\n",
        "\n",
        "# P(Online = 1 | Loan = 1)\n",
        "p_online1_given_loan1 = pivot_loan_online.loc[1, 1] / pivot_loan_online.loc[1, :].sum()\n",
        "\n",
        "# P(Loan = 1) - proporción de aceptadores de préstamos\n",
        "p_loan1 = y_train.sum() / len(y_train)\n",
        "\n",
        "# P(CC = 1 | Loan = 0)\n",
        "p_cc1_given_loan0 = pivot_loan_cc.loc[0, 1] / pivot_loan_cc.loc[0, :].sum()\n",
        "\n",
        "# P(Online = 1 | Loan = 0)\n",
        "p_online1_given_loan0 = pivot_loan_online.loc[0, 1] / pivot_loan_online.loc[0, :].sum()\n",
        "\n",
        "# P(Loan = 0)\n",
        "p_loan0 = 1 - p_loan1\n",
        "\n",
        "print(\"Probabilidades calculadas:\")\n",
        "print(f\"P(CC = 1 | Loan = 1) = {p_cc1_given_loan1:.4f}\")\n",
        "print(f\"P(Online = 1 | Loan = 1) = {p_online1_given_loan1:.4f}\")\n",
        "print(f\"P(Loan = 1) = {p_loan1:.4f}\")\n",
        "print(f\"P(CC = 1 | Loan = 0) = {p_cc1_given_loan0:.4f}\")\n",
        "print(f\"P(Online = 1 | Loan = 0) = {p_online1_given_loan0:.4f}\")\n",
        "print(f\"P(Loan = 0) = {p_loan0:.4f}\")\n"
      ]
    },
    {
      "cell_type": "markdown",
      "metadata": {},
      "source": [
        "### e) Calcular P(Loan = 1 | CC = 1, Online = 1) usando Naive Bayes\n"
      ]
    },
    {
      "cell_type": "code",
      "execution_count": null,
      "metadata": {},
      "outputs": [],
      "source": [
        "# Aplicar la fórmula de Naive Bayes\n",
        "# P(Loan = 1 | CC = 1, Online = 1) = P(CC = 1 | Loan = 1) * P(Online = 1 | Loan = 1) * P(Loan = 1) / P(CC = 1, Online = 1)\n",
        "\n",
        "# Calcular P(CC = 1, Online = 1) usando la ley de probabilidad total\n",
        "p_cc1_online1 = (p_cc1_given_loan1 * p_online1_given_loan1 * p_loan1 + \n",
        "                 p_cc1_given_loan0 * p_online1_given_loan0 * p_loan0)\n",
        "\n",
        "# Calcular P(Loan = 1 | CC = 1, Online = 1) usando Naive Bayes\n",
        "p_loan1_given_cc1_online1_naive = (p_cc1_given_loan1 * p_online1_given_loan1 * p_loan1) / p_cc1_online1\n",
        "\n",
        "print(\"Cálculo usando Naive Bayes:\")\n",
        "print(f\"P(CC = 1, Online = 1) = {p_cc1_online1:.4f}\")\n",
        "print(f\"P(Loan = 1 | CC = 1, Online = 1) = {p_loan1_given_cc1_online1_naive:.4f}\")\n",
        "\n",
        "print(f\"\\nComparación:\")\n",
        "print(f\"Desde tabla pivot: {prob_loan_given_cc_online:.4f}\")\n",
        "print(f\"Desde Naive Bayes: {p_loan1_given_cc1_online1_naive:.4f}\")\n",
        "print(f\"Diferencia: {abs(prob_loan_given_cc_online - p_loan1_given_cc1_online1_naive):.4f}\")\n"
      ]
    },
    {
      "cell_type": "markdown",
      "metadata": {},
      "source": [
        "### f) Implementar Naive Bayes con scikit-learn\n"
      ]
    },
    {
      "cell_type": "code",
      "execution_count": null,
      "metadata": {},
      "outputs": [],
      "source": [
        "# Entrenar el modelo Naive Bayes\n",
        "nb_model = MultinomialNB(alpha=0.01)\n",
        "nb_model.fit(X_train, y_train)\n",
        "\n",
        "# Predecir probabilidades en el conjunto de entrenamiento\n",
        "pred_proba_train = nb_model.predict_proba(X_train)\n",
        "\n",
        "# Crear un DataFrame con las probabilidades predichas\n",
        "prob_df = pd.DataFrame(pred_proba_train, columns=['P(Loan=0)', 'P(Loan=1)'], index=X_train.index)\n",
        "prob_df['Online'] = X_train['Online_1']\n",
        "prob_df['CreditCard'] = X_train['CreditCard_1']\n",
        "prob_df['Actual'] = y_train\n",
        "\n",
        "# Encontrar la probabilidad para el caso específico: CC=1, Online=1\n",
        "mask = (prob_df['CreditCard'] == 1) & (prob_df['Online'] == 1)\n",
        "specific_case = prob_df[mask]\n",
        "\n",
        "print(\"Casos con CC=1, Online=1:\")\n",
        "print(specific_case[['P(Loan=0)', 'P(Loan=1)', 'Actual']].head(10))\n",
        "\n",
        "if len(specific_case) > 0:\n",
        "    sklearn_prob = specific_case['P(Loan=1)'].iloc[0]  # Tomar el primer caso como ejemplo\n",
        "    print(f\"\\nP(Loan = 1 | CC = 1, Online = 1) desde scikit-learn: {sklearn_prob:.4f}\")\n",
        "    print(f\"\\nComparación final:\")\n",
        "    print(f\"Tabla pivot: {prob_loan_given_cc_online:.4f}\")\n",
        "    print(f\"Naive Bayes manual: {p_loan1_given_cc1_online1_naive:.4f}\")\n",
        "    print(f\"Scikit-learn: {sklearn_prob:.4f}\")\n",
        "else:\n",
        "    print(\"No se encontraron casos con CC=1, Online=1 en el conjunto de entrenamiento\")\n"
      ]
    },
    {
      "cell_type": "markdown",
      "metadata": {},
      "source": [
        "### g) Evaluación del modelo\n"
      ]
    },
    {
      "cell_type": "code",
      "execution_count": null,
      "metadata": {},
      "outputs": [],
      "source": [
        "# Predecir en el conjunto de validación\n",
        "y_valid_pred = nb_model.predict(X_valid)\n",
        "pred_proba_valid = nb_model.predict_proba(X_valid)\n",
        "\n",
        "# Mostrar resumen de clasificación\n",
        "print(\"Resumen de clasificación en conjunto de validación:\")\n",
        "classificationSummary(y_valid, y_valid_pred)\n",
        "\n",
        "# Mostrar algunas predicciones de probabilidad\n",
        "print(\"\\nPrimeras 10 predicciones de probabilidad:\")\n",
        "prob_valid_df = pd.DataFrame(pred_proba_valid, columns=['P(Loan=0)', 'P(Loan=1)'])\n",
        "prob_valid_df['Predicted'] = y_valid_pred\n",
        "prob_valid_df['Actual'] = y_valid.values\n",
        "print(prob_valid_df.head(10))\n",
        "\n",
        "# Buscar casos específicos en validación\n",
        "valid_df = pd.DataFrame({\n",
        "    'Online': X_valid['Online_1'],\n",
        "    'CreditCard': X_valid['CreditCard_1'],\n",
        "    'Actual': y_valid.values,\n",
        "    'Predicted': y_valid_pred,\n",
        "    'P(Loan=0)': pred_proba_valid[:, 0],\n",
        "    'P(Loan=1)': pred_proba_valid[:, 1]\n",
        "})\n",
        "\n",
        "# Casos con CC=1, Online=1 en validación\n",
        "valid_specific = valid_df[(valid_df['CreditCard'] == 1) & (valid_df['Online'] == 1)]\n",
        "print(f\"\\nCasos con CC=1, Online=1 en validación: {len(valid_specific)}\")\n",
        "if len(valid_specific) > 0:\n",
        "    print(valid_specific[['Actual', 'Predicted', 'P(Loan=0)', 'P(Loan=1)']].head())\n"
      ]
    },
    {
      "cell_type": "markdown",
      "metadata": {},
      "source": [
        "## Conclusiones\n",
        "\n",
        "### Respuestas a las preguntas del ejercicio:\n",
        "\n",
        "**b) Probabilidad desde tabla pivot:** La probabilidad P(Loan = 1 | CC = 1, Online = 1) calculada directamente desde la tabla pivot es la estimación más precisa porque utiliza todos los datos disponibles sin asumir independencia entre las variables.\n",
        "\n",
        "**f) Comparación de estimaciones:** La estimación desde la tabla pivot es más precisa que la de Naive Bayes porque Naive Bayes asume independencia condicional entre las variables predictoras, lo cual puede no ser cierto en la realidad.\n",
        "\n",
        "**g) Entradas necesarias:** Para calcular P(Loan = 1 | CC = 1, Online = 1) usando Naive Bayes, necesitamos:\n",
        "- P(CC = 1 | Loan = 1)\n",
        "- P(Online = 1 | Loan = 1) \n",
        "- P(Loan = 1)\n",
        "- P(CC = 1 | Loan = 0)\n",
        "- P(Online = 1 | Loan = 0)\n",
        "- P(Loan = 0)\n",
        "\n",
        "El modelo de scikit-learn proporciona una implementación robusta de Naive Bayes que maneja automáticamente estos cálculos.\n"
      ]
    }
  ],
  "metadata": {
    "kernelspec": {
      "display_name": "Python 3",
      "language": "python",
      "name": "python3"
    },
    "language_info": {
      "codemirror_mode": {
        "name": "ipython",
        "version": 3
      },
      "file_extension": ".py",
      "mimetype": "text/x-python",
      "name": "python",
      "nbconvert_exporter": "python",
      "pygments_lexer": "ipython3",
      "version": "3.12.6"
    }
  },
  "nbformat": 4,
  "nbformat_minor": 2
}
