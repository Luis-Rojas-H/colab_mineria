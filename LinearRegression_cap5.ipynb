{
  "cells": [
    {
      "cell_type": "markdown",
      "metadata": {},
      "source": [
        "# Regresión Lineal - Capítulo 5\n",
        "\n",
        "Análisis de regresión lineal con diferentes técnicas de regularización usando el dataset de Toyota Corolla.\n"
      ]
    },
    {
      "cell_type": "markdown",
      "metadata": {},
      "source": [
        "## Importar librerías\n"
      ]
    },
    {
      "cell_type": "code",
      "execution_count": 2,
      "metadata": {},
      "outputs": [],
      "source": [
        "import pandas as pd\n",
        "from sklearn.model_selection import train_test_split\n",
        "from sklearn.linear_model import LinearRegression, Lasso, Ridge, LassoCV, BayesianRidge\n",
        "import statsmodels.formula.api as sm\n",
        "import matplotlib.pylab as plt\n",
        "from dmba import regressionSummary, exhaustive_search\n",
        "from dmba import backward_elimination, forward_selection, stepwise_selection\n",
        "from dmba import adjusted_r2_score, AIC_score, BIC_score\n"
      ]
    },
    {
      "cell_type": "markdown",
      "metadata": {},
      "source": [
        "## Cargar datos y preparar variables\n"
      ]
    },
    {
      "cell_type": "code",
      "execution_count": 5,
      "metadata": {},
      "outputs": [],
      "source": [
        "############### code for fitting a regression model to training set and predicting\n",
        "############### code for fitting a regression model\n",
        "# reduce data frame to the top 1000 rows and select columns for regression analysis\n",
        "car_df = pd.read_csv(\".//ToyotaCorolla.csv\")\n",
        "car_df = car_df.iloc[0:1000]\n",
        "predictors = [\"Age_08_04\", \"KM\", \"Fuel_Type\", \"HP\", \"Met_Color\", \"Automatic\",\"CC\",\"Doors\", \"Quarterly_Tax\", \"Weight\"]\n",
        "outcome = \"Price\"\n",
        "#car_df.dtypes\n",
        "# partition data\n",
        "X = pd.get_dummies(car_df[predictors], drop_first=True)\n",
        "y = car_df[outcome]\n",
        "train_X, valid_X, train_y, valid_y = train_test_split(X, y, test_size=0.4,random_state=1)\n"
      ]
    },
    {
      "cell_type": "markdown",
      "metadata": {},
      "source": [
        "## Ajustar modelo de regresión lineal\n"
      ]
    },
    {
      "cell_type": "code",
      "execution_count": 6,
      "metadata": {},
      "outputs": [
        {
          "name": "stdout",
          "output_type": "stream",
          "text": [
            "           Predictor  coefficient\n",
            "0          Age_08_04  -140.748761\n",
            "1                 KM    -0.017840\n",
            "2                 HP    36.103419\n",
            "3          Met_Color    84.281830\n",
            "4          Automatic   416.781954\n",
            "5                 CC     0.017737\n",
            "6              Doors   -50.657863\n",
            "7      Quarterly_Tax    13.625325\n",
            "8             Weight    13.038711\n",
            "9   Fuel_Type_Diesel  1066.464681\n",
            "10  Fuel_Type_Petrol  2310.249543\n",
            "\n",
            "Regression statistics\n",
            "\n",
            "                      Mean Error (ME) : 0.0000\n",
            "       Root Mean Squared Error (RMSE) : 1400.5823\n",
            "            Mean Absolute Error (MAE) : 1046.9072\n",
            "          Mean Percentage Error (MPE) : -1.0223\n",
            "Mean Absolute Percentage Error (MAPE) : 9.2994\n"
          ]
        }
      ],
      "source": [
        "car_lm = LinearRegression()\n",
        "car_lm.fit(train_X, train_y)\n",
        "# print coefficients\n",
        "print(pd.DataFrame({\"Predictor\": X.columns, \"coefficient\": car_lm.coef_}))\n",
        "# print performance measures (training data)\n",
        "regressionSummary(train_y, car_lm.predict(train_X))\n"
      ]
    },
    {
      "cell_type": "markdown",
      "metadata": {},
      "source": [
        "## Predicciones en conjunto de validación\n"
      ]
    },
    {
      "cell_type": "code",
      "execution_count": 7,
      "metadata": {},
      "outputs": [
        {
          "name": "stdout",
          "output_type": "stream",
          "text": [
            "        Predicted  Actual     Residual\n",
            "507  10607.333940   11500   892.666060\n",
            "818   9272.705792    8950  -322.705792\n",
            "452  10617.947808   11450   832.052192\n",
            "368  13600.396275   11450 -2150.396275\n",
            "242  12396.694660   11950  -446.694660\n",
            "929   9496.498212    9995   498.501788\n",
            "262  12480.063217   13500  1019.936783\n",
            "810   8834.146068    7950  -884.146068\n",
            "318  12183.361282    9900 -2283.361282\n",
            "49   19206.965683   21950  2743.034317\n",
            "446  10987.498309   11950   962.501691\n",
            "142  18501.527375   19950  1448.472625\n",
            "968   9914.690947    9950    35.309053\n",
            "345  13827.299932   14950  1122.700068\n",
            "971   7966.732543   10495  2528.267457\n",
            "133  17185.242041   15950 -1235.242041\n",
            "104  19952.658062   19450  -502.658062\n",
            "6    16570.609280   16900   329.390720\n",
            "600  13739.409113   11250 -2489.409113\n",
            "496  11267.513740   11750   482.486260\n",
            "\n",
            "Regression statistics\n",
            "\n",
            "                      Mean Error (ME) : 103.6803\n",
            "       Root Mean Squared Error (RMSE) : 1312.8523\n",
            "            Mean Absolute Error (MAE) : 1017.5972\n",
            "          Mean Percentage Error (MPE) : -0.2633\n",
            "Mean Absolute Percentage Error (MAPE) : 9.0111\n"
          ]
        }
      ],
      "source": [
        "############### prices in validation set\n",
        "# Use predict() to make predictions on a new set\n",
        "car_lm_pred = car_lm.predict(valid_X)\n",
        "result = pd.DataFrame({\"Predicted\": car_lm_pred, \"Actual\": valid_y,\"Residual\": valid_y - car_lm_pred})\n",
        "print(result.head(20))\n",
        "# print performance measures (validation data)\n",
        "regressionSummary(valid_y, car_lm_pred)\n"
      ]
    },
    {
      "cell_type": "markdown",
      "metadata": {},
      "source": [
        "## Histograma de errores de validación\n"
      ]
    },
    {
      "cell_type": "code",
      "execution_count": 8,
      "metadata": {},
      "outputs": [
        {
          "name": "stdout",
          "output_type": "stream",
          "text": [
            "0.7425\n"
          ]
        },
        {
          "data": {
            "image/png": "[encoded data removed]",
            "text/plain": [
              "<Figure size 640x480 with 1 Axes>"
            ]
          },
          "metadata": {},
          "output_type": "display_data"
        }
      ],
      "source": [
        "########## code for plotting histogram of validation errors\n",
        "car_lm_pred = car_lm.predict(valid_X)\n",
        "all_residuals = valid_y - car_lm_pred\n",
        "# Determine the percentage of datapoints with a residual in [-1406, 1406] = approx.\n",
        "# 75%\n",
        "print(len(all_residuals[(all_residuals > -1406) & (all_residuals < 1406)]) / len(all_residuals))\n",
        "pd.DataFrame({\"Residuals\": all_residuals}).hist(bins=25)\n",
        "plt.show()\n"
      ]
    },
    {
      "cell_type": "markdown",
      "metadata": {},
      "source": [
        "## Búsqueda exhaustiva de predictores\n"
      ]
    },
    {
      "cell_type": "code",
      "execution_count": 9,
      "metadata": {},
      "outputs": [
        {
          "data": {
            "text/html": [
              "<div>\n",
              "<style scoped>\n",
              "    .dataframe tbody tr th:only-of-type {\n",
              "        vertical-align: middle;\n",
              "    }\n",
              "\n",
              "    .dataframe tbody tr th {\n",
              "        vertical-align: top;\n",
              "    }\n",
              "\n",
              "    .dataframe thead th {\n",
              "        text-align: right;\n",
              "    }\n",
              "</style>\n",
              "<table border=\"1\" class=\"dataframe\">\n",
              "  <thead>\n",
              "    <tr style=\"text-align: right;\">\n",
              "      <th></th>\n",
              "      <th>n</th>\n",
              "      <th>r2adj</th>\n",
              "      <th>AIC</th>\n",
              "      <th>Age_08_04</th>\n",
              "      <th>Automatic</th>\n",
              "      <th>CC</th>\n",
              "      <th>Doors</th>\n",
              "      <th>Fuel_Type_Diesel</th>\n",
              "      <th>Fuel_Type_Petrol</th>\n",
              "      <th>HP</th>\n",
              "      <th>KM</th>\n",
              "      <th>Met_Color</th>\n",
              "      <th>Quarterly_Tax</th>\n",
              "      <th>Weight</th>\n",
              "    </tr>\n",
              "  </thead>\n",
              "  <tbody>\n",
              "    <tr>\n",
              "      <th>0</th>\n",
              "      <td>1</td>\n",
              "      <td>0.767901</td>\n",
              "      <td>10689.712094</td>\n",
              "      <td>True</td>\n",
              "      <td>False</td>\n",
              "      <td>False</td>\n",
              "      <td>False</td>\n",
              "      <td>False</td>\n",
              "      <td>False</td>\n",
              "      <td>False</td>\n",
              "      <td>False</td>\n",
              "      <td>False</td>\n",
              "      <td>False</td>\n",
              "      <td>False</td>\n",
              "    </tr>\n",
              "    <tr>\n",
              "      <th>1</th>\n",
              "      <td>2</td>\n",
              "      <td>0.801160</td>\n",
              "      <td>10597.910645</td>\n",
              "      <td>True</td>\n",
              "      <td>False</td>\n",
              "      <td>False</td>\n",
              "      <td>False</td>\n",
              "      <td>False</td>\n",
              "      <td>False</td>\n",
              "      <td>True</td>\n",
              "      <td>False</td>\n",
              "      <td>False</td>\n",
              "      <td>False</td>\n",
              "      <td>False</td>\n",
              "    </tr>\n",
              "    <tr>\n",
              "      <th>2</th>\n",
              "      <td>3</td>\n",
              "      <td>0.829659</td>\n",
              "      <td>10506.084235</td>\n",
              "      <td>True</td>\n",
              "      <td>False</td>\n",
              "      <td>False</td>\n",
              "      <td>False</td>\n",
              "      <td>False</td>\n",
              "      <td>False</td>\n",
              "      <td>True</td>\n",
              "      <td>False</td>\n",
              "      <td>False</td>\n",
              "      <td>False</td>\n",
              "      <td>True</td>\n",
              "    </tr>\n",
              "    <tr>\n",
              "      <th>3</th>\n",
              "      <td>4</td>\n",
              "      <td>0.846357</td>\n",
              "      <td>10445.174820</td>\n",
              "      <td>True</td>\n",
              "      <td>False</td>\n",
              "      <td>False</td>\n",
              "      <td>False</td>\n",
              "      <td>False</td>\n",
              "      <td>False</td>\n",
              "      <td>True</td>\n",
              "      <td>True</td>\n",
              "      <td>False</td>\n",
              "      <td>False</td>\n",
              "      <td>True</td>\n",
              "    </tr>\n",
              "    <tr>\n",
              "      <th>4</th>\n",
              "      <td>5</td>\n",
              "      <td>0.849044</td>\n",
              "      <td>10435.578836</td>\n",
              "      <td>True</td>\n",
              "      <td>False</td>\n",
              "      <td>False</td>\n",
              "      <td>False</td>\n",
              "      <td>False</td>\n",
              "      <td>False</td>\n",
              "      <td>True</td>\n",
              "      <td>True</td>\n",
              "      <td>False</td>\n",
              "      <td>True</td>\n",
              "      <td>True</td>\n",
              "    </tr>\n",
              "    <tr>\n",
              "      <th>5</th>\n",
              "      <td>6</td>\n",
              "      <td>0.853172</td>\n",
              "      <td>10419.932278</td>\n",
              "      <td>True</td>\n",
              "      <td>False</td>\n",
              "      <td>False</td>\n",
              "      <td>False</td>\n",
              "      <td>False</td>\n",
              "      <td>True</td>\n",
              "      <td>True</td>\n",
              "      <td>True</td>\n",
              "      <td>False</td>\n",
              "      <td>True</td>\n",
              "      <td>True</td>\n",
              "    </tr>\n",
              "    <tr>\n",
              "      <th>6</th>\n",
              "      <td>7</td>\n",
              "      <td>0.853860</td>\n",
              "      <td>10418.104025</td>\n",
              "      <td>True</td>\n",
              "      <td>False</td>\n",
              "      <td>False</td>\n",
              "      <td>False</td>\n",
              "      <td>True</td>\n",
              "      <td>True</td>\n",
              "      <td>True</td>\n",
              "      <td>True</td>\n",
              "      <td>False</td>\n",
              "      <td>True</td>\n",
              "      <td>True</td>\n",
              "    </tr>\n",
              "    <tr>\n",
              "      <th>7</th>\n",
              "      <td>8</td>\n",
              "      <td>0.854297</td>\n",
              "      <td>10417.290103</td>\n",
              "      <td>True</td>\n",
              "      <td>True</td>\n",
              "      <td>False</td>\n",
              "      <td>False</td>\n",
              "      <td>True</td>\n",
              "      <td>True</td>\n",
              "      <td>True</td>\n",
              "      <td>True</td>\n",
              "      <td>False</td>\n",
              "      <td>True</td>\n",
              "      <td>True</td>\n",
              "    </tr>\n",
              "    <tr>\n",
              "      <th>8</th>\n",
              "      <td>9</td>\n",
              "      <td>0.854172</td>\n",
              "      <td>10418.789079</td>\n",
              "      <td>True</td>\n",
              "      <td>True</td>\n",
              "      <td>False</td>\n",
              "      <td>True</td>\n",
              "      <td>True</td>\n",
              "      <td>True</td>\n",
              "      <td>True</td>\n",
              "      <td>True</td>\n",
              "      <td>False</td>\n",
              "      <td>True</td>\n",
              "      <td>True</td>\n",
              "    </tr>\n",
              "    <tr>\n",
              "      <th>9</th>\n",
              "      <td>10</td>\n",
              "      <td>0.854036</td>\n",
              "      <td>10420.330800</td>\n",
              "      <td>True</td>\n",
              "      <td>True</td>\n",
              "      <td>False</td>\n",
              "      <td>True</td>\n",
              "      <td>True</td>\n",
              "      <td>True</td>\n",
              "      <td>True</td>\n",
              "      <td>True</td>\n",
              "      <td>True</td>\n",
              "      <td>True</td>\n",
              "      <td>True</td>\n",
              "    </tr>\n",
              "    <tr>\n",
              "      <th>10</th>\n",
              "      <td>11</td>\n",
              "      <td>0.853796</td>\n",
              "      <td>10422.298278</td>\n",
              "      <td>True</td>\n",
              "      <td>True</td>\n",
              "      <td>True</td>\n",
              "      <td>True</td>\n",
              "      <td>True</td>\n",
              "      <td>True</td>\n",
              "      <td>True</td>\n",
              "      <td>True</td>\n",
              "      <td>True</td>\n",
              "      <td>True</td>\n",
              "      <td>True</td>\n",
              "    </tr>\n",
              "  </tbody>\n",
              "</table>\n",
              "</div>"
            ],
            "text/plain": [
              "     n     r2adj           AIC  Age_08_04  Automatic     CC  Doors  \\\n",
              "0    1  0.767901  10689.712094       True      False  False  False   \n",
              "1    2  0.801160  10597.910645       True      False  False  False   \n",
              "2    3  0.829659  10506.084235       True      False  False  False   \n",
              "3    4  0.846357  10445.174820       True      False  False  False   \n",
              "4    5  0.849044  10435.578836       True      False  False  False   \n",
              "5    6  0.853172  10419.932278       True      False  False  False   \n",
              "6    7  0.853860  10418.104025       True      False  False  False   \n",
              "7    8  0.854297  10417.290103       True       True  False  False   \n",
              "8    9  0.854172  10418.789079       True       True  False   True   \n",
              "9   10  0.854036  10420.330800       True       True  False   True   \n",
              "10  11  0.853796  10422.298278       True       True   True   True   \n",
              "\n",
              "    Fuel_Type_Diesel  Fuel_Type_Petrol     HP     KM  Met_Color  \\\n",
              "0              False             False  False  False      False   \n",
              "1              False             False   True  False      False   \n",
              "2              False             False   True  False      False   \n",
              "3              False             False   True   True      False   \n",
              "4              False             False   True   True      False   \n",
              "5              False              True   True   True      False   \n",
              "6               True              True   True   True      False   \n",
              "7               True              True   True   True      False   \n",
              "8               True              True   True   True      False   \n",
              "9               True              True   True   True       True   \n",
              "10              True              True   True   True       True   \n",
              "\n",
              "    Quarterly_Tax  Weight  \n",
              "0           False   False  \n",
              "1           False   False  \n",
              "2           False    True  \n",
              "3           False    True  \n",
              "4            True    True  \n",
              "5            True    True  \n",
              "6            True    True  \n",
              "7            True    True  \n",
              "8            True    True  \n",
              "9            True    True  \n",
              "10           True    True  "
            ]
          },
          "execution_count": 9,
          "metadata": {},
          "output_type": "execute_result"
        }
      ],
      "source": [
        "############ Exhaustive search for reducing predictors in Toyota Corolla example\n",
        "def train_model(variables):\n",
        "    model = LinearRegression()\n",
        "    model.fit(train_X[list(variables)], train_y)\n",
        "    return model\n",
        "def score_model(model, variables):\n",
        "    pred_y = model.predict(train_X[list(variables)])\n",
        "    # we negate as score is optimized to be as low as possible\n",
        "    return -adjusted_r2_score(train_y, pred_y, model)\n",
        "allVariables = train_X.columns\n",
        "results = exhaustive_search(allVariables, train_model, score_model)\n",
        "data = []\n",
        "for result in results:\n",
        "    model = result[\"model\"]\n",
        "    variables = list(result[\"variables\"])\n",
        "    AIC = AIC_score(train_y, model.predict(train_X[variables]), model)\n",
        "    d = {\"n\": result[\"n\"], \"r2adj\": -result[\"score\"], \"AIC\": AIC}\n",
        "    d.update({var: var in result['variables'] for var in allVariables})\n",
        "    data.append(d)\n",
        "pd.DataFrame(data, columns=('n', 'r2adj', 'AIC') + tuple(sorted(allVariables)))\n"
      ]
    },
    {
      "cell_type": "markdown",
      "metadata": {},
      "source": [
        "### Tareas pendientes para Exhaustive Search\n",
        "Usar el modelo seleccionado (Exhaustive search) para realizar:\n",
        "1. Análisis predictivo \n",
        "2. Gráfico de residuales\n"
      ]
    },
    {
      "cell_type": "code",
      "execution_count": null,
      "metadata": {},
      "outputs": [],
      "source": [
        "# Usar el modelo seleccionado (Exhaustive search) para realizar \n",
        "# 1.- análisis predictivo \n",
        "# 2.- Gráfico residuales \n",
        "#\n"
      ]
    },
    {
      "cell_type": "markdown",
      "metadata": {},
      "source": [
        "## Regresión regularizada: Lasso\n"
      ]
    },
    {
      "cell_type": "code",
      "execution_count": 10,
      "metadata": {},
      "outputs": [
        {
          "ename": "TypeError",
          "evalue": "Lasso.__init__() got an unexpected keyword argument 'normalize'",
          "output_type": "error",
          "traceback": [
            "\u001b[31m---------------------------------------------------------------------------\u001b[39m",
            "\u001b[31mTypeError\u001b[39m                                 Traceback (most recent call last)",
            "\u001b[36mCell\u001b[39m\u001b[36m \u001b[39m\u001b[32mIn[10]\u001b[39m\u001b[32m, line 2\u001b[39m\n\u001b[32m      1\u001b[39m \u001b[38;5;66;03m######### code for regularized linear regression\u001b[39;00m\n\u001b[32m----> \u001b[39m\u001b[32m2\u001b[39m lasso = \u001b[43mLasso\u001b[49m\u001b[43m(\u001b[49m\u001b[43mnormalize\u001b[49m\u001b[43m=\u001b[49m\u001b[38;5;28;43;01mTrue\u001b[39;49;00m\u001b[43m,\u001b[49m\u001b[43m \u001b[49m\u001b[43malpha\u001b[49m\u001b[43m=\u001b[49m\u001b[32;43m1\u001b[39;49m\u001b[43m)\u001b[49m\n\u001b[32m      3\u001b[39m lasso.fit(train_X, train_y)\n\u001b[32m      4\u001b[39m regressionSummary(valid_y, lasso.predict(valid_X))\n",
            "\u001b[31mTypeError\u001b[39m: Lasso.__init__() got an unexpected keyword argument 'normalize'"
          ]
        }
      ],
      "source": [
        "######### code for regularized linear regression\n",
        "lasso = Lasso(normalize=True, alpha=1)\n",
        "lasso.fit(train_X, train_y)\n",
        "regressionSummary(valid_y, lasso.predict(valid_X))\n"
      ]
    },
    {
      "cell_type": "markdown",
      "metadata": {},
      "source": [
        "### Tareas pendientes para Lasso\n",
        "Usar el modelo seleccionado (lasso) para realizar:\n",
        "1. Análisis predictivo \n",
        "2. Gráfico de residuales\n"
      ]
    },
    {
      "cell_type": "code",
      "execution_count": null,
      "metadata": {},
      "outputs": [],
      "source": [
        "# Usar el modelo seleccionado (lasso) para realizar \n",
        "# 1.- análisis predictivo \n",
        "# 2.- Gráfico residuales \n",
        "#\n"
      ]
    },
    {
      "cell_type": "markdown",
      "metadata": {},
      "source": [
        "## Lasso con validación cruzada (LassoCV)\n"
      ]
    },
    {
      "cell_type": "code",
      "execution_count": null,
      "metadata": {},
      "outputs": [],
      "source": [
        "lasso_cv = LassoCV(normalize=True, cv=5)\n",
        "lasso_cv.fit(train_X, train_y)\n",
        "regressionSummary(valid_y, lasso_cv.predict(valid_X))\n",
        "print(\"Lasso-CV chosen regularization: \", lasso_cv.alpha_)\n",
        "print(lasso_cv.coef_)\n"
      ]
    },
    {
      "cell_type": "markdown",
      "metadata": {},
      "source": [
        "### Tareas pendientes para LassoCV\n",
        "Usar el modelo seleccionado (lassoCV) para realizar:\n",
        "1. Análisis predictivo \n",
        "2. Gráfico de residuales\n"
      ]
    },
    {
      "cell_type": "code",
      "execution_count": null,
      "metadata": {},
      "outputs": [],
      "source": [
        "# Usar el modelo seleccionado (lassoCV) para realizar \n",
        "# 1.- análisis predictivo \n",
        "# 2.- Gráfico residuales \n",
        "#\n"
      ]
    },
    {
      "cell_type": "markdown",
      "metadata": {},
      "source": [
        "## Regresión Ridge\n"
      ]
    },
    {
      "cell_type": "code",
      "execution_count": null,
      "metadata": {},
      "outputs": [],
      "source": [
        "ridge = Ridge(normalize=True, alpha=1)\n",
        "ridge.fit(train_X, train_y)\n",
        "regressionSummary(valid_y, ridge.predict(valid_X))\n"
      ]
    },
    {
      "cell_type": "markdown",
      "metadata": {},
      "source": [
        "## Regresión Bayesiana Ridge\n"
      ]
    },
    {
      "cell_type": "code",
      "execution_count": null,
      "metadata": {},
      "outputs": [],
      "source": [
        "bayesianRidge = BayesianRidge(normalize=True)\n",
        "bayesianRidge.fit(train_X, train_y)\n",
        "regressionSummary(valid_y, bayesianRidge.predict(valid_X))\n",
        "alpha = bayesianRidge.lambda_ / bayesianRidge.alpha_\n",
        "print('Bayesian ridge chosen regularization: ', alpha)\n"
      ]
    }
  ],
  "metadata": {
    "kernelspec": {
      "display_name": "Python 3",
      "language": "python",
      "name": "python3"
    },
    "language_info": {
      "codemirror_mode": {
        "name": "ipython",
        "version": 3
      },
      "file_extension": ".py",
      "mimetype": "text/x-python",
      "name": "python",
      "nbconvert_exporter": "python",
      "pygments_lexer": "ipython3",
      "version": "3.12.6"
    }
  },
  "nbformat": 4,
  "nbformat_minor": 2
}
