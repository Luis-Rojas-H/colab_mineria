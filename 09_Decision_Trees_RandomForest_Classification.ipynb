{
  "cells": [
    {
      "cell_type": "markdown",
      "metadata": {},
      "source": [
        "# Clasificación con Árboles de Decisión y Random Forest\n",
        "## CART (Classification and Regression Trees) y Ensambles\n",
        "\n",
        "Este notebook demuestra cómo aplicar **Árboles de Decisión** y **Random Forest** para problemas de clasificación.\n"
      ]
    },
    {
      "cell_type": "markdown",
      "metadata": {},
      "source": [
        "## 1. Importaciones de Librerías\n"
      ]
    },
    {
      "cell_type": "code",
      "execution_count": 17,
      "metadata": {},
      "outputs": [
        {
          "name": "stdout",
          "output_type": "stream",
          "text": [
            "✅ Todas las librerías importadas correctamente\n"
          ]
        }
      ],
      "source": [
        "import pandas as pd\n",
        "import numpy as np\n",
        "from sklearn.tree import DecisionTreeClassifier, DecisionTreeRegressor\n",
        "from sklearn.ensemble import RandomForestClassifier, GradientBoostingClassifier\n",
        "from sklearn.model_selection import train_test_split, cross_val_score, GridSearchCV\n",
        "import matplotlib.pyplot as plt\n",
        "from dmba import plotDecisionTree, classificationSummary, regressionSummary\n",
        "\n",
        "print(\"✅ Todas las librerías importadas correctamente\")\n"
      ]
    },
    {
      "cell_type": "markdown",
      "metadata": {},
      "source": [
        "---\n",
        "\n",
        "# PARTE 1: ÁRBOLES DE DECISIÓN (Decision Trees)\n",
        "\n",
        "## 2. Árbol de Decisión Simple - Mowers Dataset\n"
      ]
    },
    {
      "cell_type": "code",
      "execution_count": 22,
      "metadata": {},
      "outputs": [
        {
          "name": "stdout",
          "output_type": "stream",
          "text": [
            "\n",
            "======================================================================\n",
            "ÁRBOL DE DECISIÓN SIMPLE (max_depth=1)\n",
            "======================================================================\n",
            "\n",
            "Dataset shape: (24, 3)\n",
            "Primeras filas:\n",
            "   Income  Lot_Size Ownership\n",
            "0    60.0      18.4     Owner\n",
            "1    85.5      16.8     Owner\n",
            "2    64.8      21.6     Owner\n",
            "3    61.5      20.8     Owner\n",
            "4    87.0      23.6     Owner\n",
            "\n",
            "Clases: ['Nonowner' 'Owner']\n",
            "Árbol entrenado con max_depth=1 (solo 1 nivel de profundidad)\n"
          ]
        }
      ],
      "source": [
        "print(\"\\n\" + \"=\"*70)\n",
        "print(\"ÁRBOL DE DECISIÓN SIMPLE (max_depth=1)\")\n",
        "print(\"=\"*70)\n",
        "\n",
        "# Cargar datos\n",
        "mower_df = pd.read_csv('RidingMowers.csv')\n",
        "print(f\"\\nDataset shape: {mower_df.shape}\")\n",
        "print(f\"Primeras filas:\\n{mower_df.head()}\")\n",
        "\n",
        "# Crear árbol con profundidad máxima = 1 (árbol muy simple)\n",
        "X = mower_df[['Income', 'Lot_Size']]  # Variables predictoras\n",
        "y = mower_df['Ownership']  # Variable objetivo\n",
        "\n",
        "classTree = DecisionTreeClassifier(random_state=0, max_depth=1)\n",
        "classTree.fit(X, y)\n",
        "\n",
        "print(f\"\\nClases: {classTree.classes_}\")\n",
        "print(\"Árbol entrenado con max_depth=1 (solo 1 nivel de profundidad)\")\n",
        "\n",
        "# Plotear el árbol\n",
        "#plotDecisionTree(classTree, feature_names=['Income', 'Lot_Size'], class_names=classTree.classes_)"
      ]
    },
    {
      "cell_type": "markdown",
      "metadata": {},
      "source": [
        "## 3. Árbol de Decisión Completo - UniversalBank Dataset\n"
      ]
    },
    {
      "cell_type": "code",
      "execution_count": 23,
      "metadata": {},
      "outputs": [
        {
          "name": "stdout",
          "output_type": "stream",
          "text": [
            "\n",
            "======================================================================\n",
            "ÁRBOL DE DECISIÓN COMPLETO (sin restricciones)\n",
            "======================================================================\n",
            "\n",
            "Dataset shape: (5000, 12)\n",
            "Variable objetivo (Personal Loan): {0: 4520, 1: 480}\n",
            "\n",
            "Train set: 3000 muestras\n",
            "Valid set: 2000 muestras\n",
            "\n",
            "📈 Entrenando árbol COMPLETO (puede ser muy grande)...\n",
            "Profundidad del árbol: 10\n",
            "Número de hojas: 43\n",
            "\n",
            "Ploteando árbol completo...\n"
          ]
        }
      ],
      "source": [
        "print(\"\\n\" + \"=\"*70)\n",
        "print(\"ÁRBOL DE DECISIÓN COMPLETO (sin restricciones)\")\n",
        "print(\"=\"*70)\n",
        "\n",
        "# Cargar datos\n",
        "bank_df = pd.read_csv('UniversalBank.csv')\n",
        "bank_df.drop(columns=['ID', 'ZIP Code'], inplace=True)\n",
        "\n",
        "X = bank_df.drop(columns=['Personal Loan'])\n",
        "y = bank_df['Personal Loan']\n",
        "\n",
        "print(f\"\\nDataset shape: {bank_df.shape}\")\n",
        "print(f\"Variable objetivo (Personal Loan): {y.value_counts().to_dict()}\")\n",
        "\n",
        "# Dividir en train/validation\n",
        "train_X, valid_X, train_y, valid_y = train_test_split(X, y, test_size=0.4, random_state=1)\n",
        "print(f\"\\nTrain set: {train_X.shape[0]} muestras\")\n",
        "print(f\"Valid set: {valid_X.shape[0]} muestras\")\n",
        "\n",
        "# Crear árbol SIN restricciones (árbol muy grande)\n",
        "print(\"\\n📈 Entrenando árbol COMPLETO (puede ser muy grande)...\")\n",
        "fullClassTree = DecisionTreeClassifier(random_state=1)\n",
        "fullClassTree.fit(train_X, train_y)\n",
        "\n",
        "print(f\"Profundidad del árbol: {fullClassTree.get_depth()}\")\n",
        "print(f\"Número de hojas: {fullClassTree.get_n_leaves()}\")\n",
        "\n",
        "# Plotear el árbol completo (puede ser muy grande!)\n",
        "print(\"\\nPloteando árbol completo...\")\n",
        "#plotDecisionTree(fullClassTree, feature_names=train_X.columns)\n"
      ]
    },
    {
      "cell_type": "markdown",
      "metadata": {},
      "source": [
        "## 4. Evaluación del Árbol Completo\n"
      ]
    },
    {
      "cell_type": "code",
      "execution_count": 24,
      "metadata": {},
      "outputs": [
        {
          "name": "stdout",
          "output_type": "stream",
          "text": [
            "\n",
            "======================================================================\n",
            "EVALUACIÓN DEL ÁRBOL COMPLETO\n",
            "======================================================================\n",
            "\n",
            "🎯 TRAINING SET:\n",
            "Confusion Matrix (Accuracy 1.0000)\n",
            "\n",
            "       Prediction\n",
            "Actual    0    1\n",
            "     0 2713    0\n",
            "     1    0  287\n",
            "\n",
            "🎯 VALIDATION SET:\n",
            "Confusion Matrix (Accuracy 0.9790)\n",
            "\n",
            "       Prediction\n",
            "Actual    0    1\n",
            "     0 1790   17\n",
            "     1   25  168\n"
          ]
        }
      ],
      "source": [
        "print(\"\\n\" + \"=\"*70)\n",
        "print(\"EVALUACIÓN DEL ÁRBOL COMPLETO\")\n",
        "print(\"=\"*70)\n",
        "\n",
        "# Evaluación en TRAINING\n",
        "print(\"\\n🎯 TRAINING SET:\")\n",
        "classificationSummary(train_y, fullClassTree.predict(train_X))\n",
        "\n",
        "# Evaluación en VALIDATION\n",
        "print(\"\\n🎯 VALIDATION SET:\")\n",
        "classificationSummary(valid_y, fullClassTree.predict(valid_X))\n"
      ]
    },
    {
      "cell_type": "markdown",
      "metadata": {},
      "source": [
        "## 5. Cross-Validation del Árbol Completo\n"
      ]
    },
    {
      "cell_type": "code",
      "execution_count": 25,
      "metadata": {},
      "outputs": [
        {
          "name": "stdout",
          "output_type": "stream",
          "text": [
            "\n",
            "======================================================================\n",
            "VALIDACIÓN CRUZADA (5-Fold Cross-Validation)\n",
            "======================================================================\n",
            "\n",
            "Accuracy en cada fold:\n",
            "  Fold 1: 0.9883 (98.83%)\n",
            "  Fold 2: 0.9733 (97.33%)\n",
            "  Fold 3: 0.9933 (99.33%)\n",
            "  Fold 4: 0.9817 (98.17%)\n",
            "  Fold 5: 0.9933 (99.33%)\n",
            "\n",
            "Promedio: 0.9860 (98.60%)\n",
            "Desviación estándar: 0.0076\n"
          ]
        }
      ],
      "source": [
        "print(\"\\n\" + \"=\"*70)\n",
        "print(\"VALIDACIÓN CRUZADA (5-Fold Cross-Validation)\")\n",
        "print(\"=\"*70)\n",
        "\n",
        "# Realizar 5-fold cross-validation\n",
        "treeClassifier = DecisionTreeClassifier(random_state=1)\n",
        "scores = cross_val_score(treeClassifier, train_X, train_y, cv=5)\n",
        "\n",
        "print(f\"\\nAccuracy en cada fold:\")\n",
        "for i, score in enumerate(scores, 1):\n",
        "    print(f\"  Fold {i}: {score:.4f} ({score*100:.2f}%)\")\n",
        "\n",
        "print(f\"\\nPromedio: {scores.mean():.4f} ({scores.mean()*100:.2f}%)\")\n",
        "print(f\"Desviación estándar: {scores.std():.4f}\")\n"
      ]
    },
    {
      "cell_type": "markdown",
      "metadata": {},
      "source": [
        "## 6. Árbol de Decisión Podado (Smaller Tree)\n"
      ]
    },
    {
      "cell_type": "code",
      "execution_count": 27,
      "metadata": {},
      "outputs": [
        {
          "name": "stdout",
          "output_type": "stream",
          "text": [
            "\n",
            "======================================================================\n",
            "ÁRBOL DE DECISIÓN PODADO (Pruned Tree)\n",
            "======================================================================\n",
            "\n",
            "Parámetros de restricción:\n",
            "  max_depth: 30\n",
            "  min_samples_split: 20\n",
            "  min_impurity_decrease: 0.01\n",
            "\n",
            "Profundidad del árbol: 3\n",
            "Número de hojas: 5\n",
            "\n",
            "Ploteando árbol podado...\n"
          ]
        }
      ],
      "source": [
        "print(\"\\n\" + \"=\"*70)\n",
        "print(\"ÁRBOL DE DECISIÓN PODADO (Pruned Tree)\")\n",
        "print(\"=\"*70)\n",
        "print(\"\\nParámetros de restricción:\")\n",
        "print(\"  max_depth: 30\")\n",
        "print(\"  min_samples_split: 20\")\n",
        "print(\"  min_impurity_decrease: 0.01\")\n",
        "\n",
        "# Crear árbol CON restricciones (árbol más pequeño)\n",
        "smallClassTree = DecisionTreeClassifier(\n",
        "    max_depth=30, \n",
        "    min_samples_split=20,\n",
        "    min_impurity_decrease=0.01, \n",
        "    random_state=1\n",
        ")\n",
        "smallClassTree.fit(train_X, train_y)\n",
        "\n",
        "print(f\"\\nProfundidad del árbol: {smallClassTree.get_depth()}\")\n",
        "print(f\"Número de hojas: {smallClassTree.get_n_leaves()}\")\n",
        "\n",
        "# Plotear el árbol podado\n",
        "print(\"\\nPloteando árbol podado...\")\n",
        "#plotDecisionTree(smallClassTree, feature_names=train_X.columns)\n"
      ]
    },
    {
      "cell_type": "markdown",
      "metadata": {},
      "source": [
        "## 7. Evaluación del Árbol Podado\n"
      ]
    },
    {
      "cell_type": "code",
      "execution_count": 28,
      "metadata": {},
      "outputs": [
        {
          "name": "stdout",
          "output_type": "stream",
          "text": [
            "\n",
            "======================================================================\n",
            "EVALUACIÓN DEL ÁRBOL PODADO\n",
            "======================================================================\n",
            "\n",
            "🎯 TRAINING SET:\n",
            "Confusion Matrix (Accuracy 0.9823)\n",
            "\n",
            "       Prediction\n",
            "Actual    0    1\n",
            "     0 2711    2\n",
            "     1   51  236\n",
            "\n",
            "🎯 VALIDATION SET:\n",
            "Confusion Matrix (Accuracy 0.9770)\n",
            "\n",
            "       Prediction\n",
            "Actual    0    1\n",
            "     0 1804    3\n",
            "     1   43  150\n"
          ]
        }
      ],
      "source": [
        "print(\"\\n\" + \"=\"*70)\n",
        "print(\"EVALUACIÓN DEL ÁRBOL PODADO\")\n",
        "print(\"=\"*70)\n",
        "\n",
        "# Evaluación en TRAINING\n",
        "print(\"\\n🎯 TRAINING SET:\")\n",
        "classificationSummary(train_y, smallClassTree.predict(train_X))\n",
        "\n",
        "# Evaluación en VALIDATION\n",
        "print(\"\\n🎯 VALIDATION SET:\")\n",
        "classificationSummary(valid_y, smallClassTree.predict(valid_X))\n"
      ]
    },
    {
      "cell_type": "markdown",
      "metadata": {},
      "source": [
        "## 8. Optimización con GridSearchCV - Búsqueda Inicial\n"
      ]
    },
    {
      "cell_type": "code",
      "execution_count": 29,
      "metadata": {},
      "outputs": [
        {
          "name": "stdout",
          "output_type": "stream",
          "text": [
            "\n",
            "======================================================================\n",
            "GRIDSEARCHCV: BÚSQUEDA INICIAL DE PARÁMETROS ÓPTIMOS\n",
            "======================================================================\n",
            "\n",
            "GridSearchCV - Búsqueda 1\n",
            "Combinaciones a probar: 100\n",
            "Esto puede tardar 1-2 minutos...\n",
            "\n",
            "✅ Búsqueda 1 completada!\n",
            "\n",
            "Mejor score (CV accuracy): 0.9877\n",
            "Mejores parámetros: {'max_depth': 10, 'min_impurity_decrease': 0.0005, 'min_samples_split': 20}\n"
          ]
        }
      ],
      "source": [
        "print(\"\\n\" + \"=\"*70)\n",
        "print(\"GRIDSEARCHCV: BÚSQUEDA INICIAL DE PARÁMETROS ÓPTIMOS\")\n",
        "print(\"=\"*70)\n",
        "\n",
        "# Definir grid de parámetros INICIAL\n",
        "param_grid_1 = {\n",
        "    'max_depth': [10, 20, 30, 40],\n",
        "    'min_samples_split': [20, 40, 60, 80, 100],\n",
        "    'min_impurity_decrease': [0, 0.0005, 0.001, 0.005, 0.01],\n",
        "}\n",
        "\n",
        "print(f\"\\nGridSearchCV - Búsqueda 1\")\n",
        "print(f\"Combinaciones a probar: {len(param_grid_1['max_depth']) * len(param_grid_1['min_samples_split']) * len(param_grid_1['min_impurity_decrease'])}\")\n",
        "print(\"Esto puede tardar 1-2 minutos...\\n\")\n",
        "\n",
        "gridSearch_1 = GridSearchCV(\n",
        "    DecisionTreeClassifier(random_state=1), \n",
        "    param_grid_1, \n",
        "    cv=5, \n",
        "    n_jobs=-1  # Usar todos los CPUs disponibles\n",
        ")\n",
        "gridSearch_1.fit(train_X, train_y)\n",
        "\n",
        "print(f\"✅ Búsqueda 1 completada!\")\n",
        "print(f\"\\nMejor score (CV accuracy): {gridSearch_1.best_score_:.4f}\")\n",
        "print(f\"Mejores parámetros: {gridSearch_1.best_params_}\")\n"
      ]
    },
    {
      "cell_type": "markdown",
      "metadata": {},
      "source": [
        "## 9. Optimización con GridSearchCV - Búsqueda Refinada\n"
      ]
    },
    {
      "cell_type": "code",
      "execution_count": 30,
      "metadata": {},
      "outputs": [
        {
          "name": "stdout",
          "output_type": "stream",
          "text": [
            "\n",
            "======================================================================\n",
            "GRIDSEARCHCV: BÚSQUEDA REFINADA DE PARÁMETROS ÓPTIMOS\n",
            "======================================================================\n",
            "\n",
            "GridSearchCV - Búsqueda 2 (Refinada)\n",
            "Combinaciones a probar: 504\n",
            "Esto puede tardar 2-3 minutos...\n",
            "\n",
            "✅ Búsqueda 2 completada!\n",
            "\n",
            "Mejor score (CV accuracy): 0.9873\n",
            "Mejores parámetros: {'max_depth': 4, 'min_impurity_decrease': 0.0011, 'min_samples_split': 13}\n",
            "\n",
            "✅ Mejor árbol seleccionado!\n"
          ]
        }
      ],
      "source": [
        "print(\"\\n\" + \"=\"*70)\n",
        "print(\"GRIDSEARCHCV: BÚSQUEDA REFINADA DE PARÁMETROS ÓPTIMOS\")\n",
        "print(\"=\"*70)\n",
        "\n",
        "# Refinar grid basado en resultados anteriores\n",
        "param_grid_2 = {\n",
        "    'max_depth': list(range(2, 16)),  # 14 valores\n",
        "    'min_samples_split': list(range(10, 22)),  # 12 valores\n",
        "    'min_impurity_decrease': [0.0009, 0.001, 0.0011],  # 3 valores\n",
        "}\n",
        "\n",
        "print(f\"\\nGridSearchCV - Búsqueda 2 (Refinada)\")\n",
        "print(f\"Combinaciones a probar: {len(param_grid_2['max_depth']) * len(param_grid_2['min_samples_split']) * len(param_grid_2['min_impurity_decrease'])}\")\n",
        "print(\"Esto puede tardar 2-3 minutos...\\n\")\n",
        "\n",
        "gridSearch_2 = GridSearchCV(\n",
        "    DecisionTreeClassifier(random_state=1), \n",
        "    param_grid_2, \n",
        "    cv=5, \n",
        "    n_jobs=-1\n",
        ")\n",
        "gridSearch_2.fit(train_X, train_y)\n",
        "\n",
        "print(f\"✅ Búsqueda 2 completada!\")\n",
        "print(f\"\\nMejor score (CV accuracy): {gridSearch_2.best_score_:.4f}\")\n",
        "print(f\"Mejores parámetros: {gridSearch_2.best_params_}\")\n",
        "\n",
        "# Obtener el mejor modelo\n",
        "bestClassTree = gridSearch_2.best_estimator_\n",
        "print(f\"\\n✅ Mejor árbol seleccionado!\")\n"
      ]
    },
    {
      "cell_type": "markdown",
      "metadata": {},
      "source": [
        "## 10. Evaluación del Árbol Optimizado\n"
      ]
    },
    {
      "cell_type": "code",
      "execution_count": 32,
      "metadata": {},
      "outputs": [
        {
          "name": "stdout",
          "output_type": "stream",
          "text": [
            "\n",
            "======================================================================\n",
            "EVALUACIÓN DEL ÁRBOL OPTIMIZADO (Fine-tuned)\n",
            "======================================================================\n",
            "\n",
            "🎯 TRAINING SET:\n",
            "Confusion Matrix (Accuracy 0.9867)\n",
            "\n",
            "       Prediction\n",
            "Actual    0    1\n",
            "     0 2708    5\n",
            "     1   35  252\n",
            "\n",
            "🎯 VALIDATION SET:\n",
            "Confusion Matrix (Accuracy 0.9815)\n",
            "\n",
            "       Prediction\n",
            "Actual    0    1\n",
            "     0 1801    6\n",
            "     1   31  162\n",
            "\n",
            "Ploteando árbol optimizado...\n"
          ]
        }
      ],
      "source": [
        "print(\"\\n\" + \"=\"*70)\n",
        "print(\"EVALUACIÓN DEL ÁRBOL OPTIMIZADO (Fine-tuned)\")\n",
        "print(\"=\"*70)\n",
        "\n",
        "# Evaluación en TRAINING\n",
        "print(\"\\n🎯 TRAINING SET:\")\n",
        "classificationSummary(train_y, bestClassTree.predict(train_X))\n",
        "\n",
        "# Evaluación en VALIDATION\n",
        "print(\"\\n🎯 VALIDATION SET:\")\n",
        "classificationSummary(valid_y, bestClassTree.predict(valid_X))\n",
        "\n",
        "# Plotear el árbol optimizado\n",
        "print(\"\\nPloteando árbol optimizado...\")\n",
        "#plotDecisionTree(bestClassTree, feature_names=train_X.columns)\n"
      ]
    },
    {
      "cell_type": "markdown",
      "metadata": {},
      "source": [
        "---\n",
        "\n",
        "# PARTE 2: RANDOM FOREST\n",
        "\n",
        "## 11. Random Forest Classifier\n"
      ]
    },
    {
      "cell_type": "code",
      "execution_count": 33,
      "metadata": {},
      "outputs": [
        {
          "name": "stdout",
          "output_type": "stream",
          "text": [
            "\n",
            "======================================================================\n",
            "RANDOM FOREST CLASSIFIER\n",
            "======================================================================\n",
            "\n",
            "¿Qué es Random Forest?\n",
            "- Conjunto de múltiples árboles de decisión\n",
            "- Cada árbol se entrena con una muestra aleatoria de datos\n",
            "- Cada árbol usa características aleatorias\n",
            "- La predicción final es el promedio de todos los árboles\n",
            "\n",
            "📊 Entrenando Random Forest con 500 árboles...\n",
            "Esto puede tardar 1-2 minutos...\n",
            "\n",
            "✅ Random Forest entrenado!\n",
            "Número de árboles: 500\n",
            "Número de características: 11\n"
          ]
        }
      ],
      "source": [
        "print(\"\\n\" + \"=\"*70)\n",
        "print(\"RANDOM FOREST CLASSIFIER\")\n",
        "print(\"=\"*70)\n",
        "print(\"\\n¿Qué es Random Forest?\")\n",
        "print(\"- Conjunto de múltiples árboles de decisión\")\n",
        "print(\"- Cada árbol se entrena con una muestra aleatoria de datos\")\n",
        "print(\"- Cada árbol usa características aleatorias\")\n",
        "print(\"- La predicción final es el promedio de todos los árboles\")\n",
        "\n",
        "# Cargar datos (mismos que antes)\n",
        "bank_df = pd.read_csv('UniversalBank.csv')\n",
        "bank_df.drop(columns=['ID', 'ZIP Code'], inplace=True)\n",
        "\n",
        "X = bank_df.drop(columns=['Personal Loan'])\n",
        "y = bank_df['Personal Loan']\n",
        "\n",
        "# Dividir en train/validation\n",
        "train_X, valid_X, train_y, valid_y = train_test_split(X, y, test_size=0.4, random_state=1)\n",
        "\n",
        "print(\"\\n📊 Entrenando Random Forest con 500 árboles...\")\n",
        "print(\"Esto puede tardar 1-2 minutos...\\n\")\n",
        "\n",
        "# Crear y entrenar Random Forest\n",
        "rf = RandomForestClassifier(n_estimators=500, random_state=1, n_jobs=-1)\n",
        "rf.fit(train_X, train_y)\n",
        "\n",
        "print(\"✅ Random Forest entrenado!\")\n",
        "print(f\"Número de árboles: {rf.n_estimators}\")\n",
        "print(f\"Número de características: {rf.n_features_in_}\")\n"
      ]
    },
    {
      "cell_type": "markdown",
      "metadata": {},
      "source": [
        "## 12. Importancia de Características (Feature Importance)\n"
      ]
    },
    {
      "cell_type": "code",
      "execution_count": 34,
      "metadata": {},
      "outputs": [
        {
          "name": "stdout",
          "output_type": "stream",
          "text": [
            "\n",
            "======================================================================\n",
            "IMPORTANCIA DE CARACTERÍSTICAS (Feature Importance)\n",
            "======================================================================\n",
            "\n",
            "📊 Importancia de características:\n",
            "           feature  importance      std\n",
            "Securities Account    0.003964 0.004998\n",
            "            Online    0.006394 0.005350\n",
            "        CreditCard    0.007678 0.007053\n",
            "          Mortgage    0.034243 0.023469\n",
            "        Experience    0.035539 0.016061\n",
            "               Age    0.036258 0.015858\n",
            "        CD Account    0.057917 0.043185\n",
            "            Family    0.111375 0.053146\n",
            "             CCAvg    0.172105 0.103011\n",
            "         Education    0.200772 0.101002\n",
            "            Income    0.333756 0.129227\n",
            "\n",
            "Generando gráfico de importancia...\n"
          ]
        },
        {
          "data": {
            "image/png": "[encoded data removed]",
            "text/plain": [
              "<Figure size 1000x600 with 1 Axes>"
            ]
          },
          "metadata": {},
          "output_type": "display_data"
        }
      ],
      "source": [
        "print(\"\\n\" + \"=\"*70)\n",
        "print(\"IMPORTANCIA DE CARACTERÍSTICAS (Feature Importance)\")\n",
        "print(\"=\"*70)\n",
        "\n",
        "# Calcular importancia de características\n",
        "importances = rf.feature_importances_\n",
        "std = np.std([tree.feature_importances_ for tree in rf.estimators_], axis=0)\n",
        "\n",
        "# Crear DataFrame\n",
        "importance_df = pd.DataFrame({\n",
        "    'feature': train_X.columns, \n",
        "    'importance': importances, \n",
        "    'std': std\n",
        "})\n",
        "importance_df = importance_df.sort_values('importance', ascending=True)\n",
        "\n",
        "print(\"\\n📊 Importancia de características:\")\n",
        "print(importance_df.to_string(index=False))\n",
        "\n",
        "# Plotear\n",
        "print(\"\\nGenerando gráfico de importancia...\")\n",
        "ax = importance_df.plot(kind='barh', xerr='std', x='feature', legend=False, figsize=(10, 6))\n",
        "ax.set_xlabel('Importancia')\n",
        "ax.set_ylabel('')\n",
        "plt.title('Feature Importance - Random Forest')\n",
        "plt.tight_layout()\n",
        "plt.show()\n"
      ]
    },
    {
      "cell_type": "markdown",
      "metadata": {},
      "source": [
        "## 13. Evaluación de Random Forest\n"
      ]
    },
    {
      "cell_type": "code",
      "execution_count": 35,
      "metadata": {},
      "outputs": [
        {
          "name": "stdout",
          "output_type": "stream",
          "text": [
            "\n",
            "======================================================================\n",
            "EVALUACIÓN DE RANDOM FOREST\n",
            "======================================================================\n",
            "\n",
            "🎯 VALIDATION SET:\n",
            "Confusion Matrix (Accuracy 0.9820)\n",
            "\n",
            "       Prediction\n",
            "Actual    0    1\n",
            "     0 1803    4\n",
            "     1   32  161\n"
          ]
        }
      ],
      "source": [
        "print(\"\\n\" + \"=\"*70)\n",
        "print(\"EVALUACIÓN DE RANDOM FOREST\")\n",
        "print(\"=\"*70)\n",
        "\n",
        "# Evaluación en VALIDATION SET\n",
        "print(\"\\n🎯 VALIDATION SET:\")\n",
        "classificationSummary(valid_y, rf.predict(valid_X))\n"
      ]
    },
    {
      "cell_type": "markdown",
      "metadata": {},
      "source": [
        "---\n",
        "\n",
        "## 14. Resumen Comparativo\n"
      ]
    },
    {
      "cell_type": "code",
      "execution_count": 36,
      "metadata": {},
      "outputs": [
        {
          "name": "stdout",
          "output_type": "stream",
          "text": [
            "\n",
            "======================================================================\n",
            "COMPARACIÓN: ÁRBOL COMPLETO vs ÁRBOL OPTIMIZADO vs RANDOM FOREST\n",
            "======================================================================\n",
            "\n",
            "📊 RESUMEN DE MODELOS:\n",
            "\n",
            "1. ÁRBOL COMPLETO (Full Tree)\n",
            "   - Sin restricciones\n",
            "   - Propenso a overfitting\n",
            "   - Alta precisión en training, baja en validation\n",
            "\n",
            "2. ÁRBOL OPTIMIZADO (Best Tree - GridSearchCV)\n",
            "   - Con restricciones optimizadas\n",
            "   - Balance entre precisión y generalización\n",
            "   - Mejor rendimiento en validation\n",
            "\n",
            "3. RANDOM FOREST\n",
            "   - Conjunto de 500 árboles\n",
            "   - Mayor robustez\n",
            "   - Generalmente mejor rendimiento\n",
            "   - Más lento de entrenar pero más rápido de predecir\n",
            "\n",
            "✅ Notebook completado exitosamente!\n"
          ]
        }
      ],
      "source": [
        "print(\"\\n\" + \"=\"*70)\n",
        "print(\"COMPARACIÓN: ÁRBOL COMPLETO vs ÁRBOL OPTIMIZADO vs RANDOM FOREST\")\n",
        "print(\"=\"*70)\n",
        "\n",
        "print(\"\\n📊 RESUMEN DE MODELOS:\")\n",
        "print(\"\\n1. ÁRBOL COMPLETO (Full Tree)\")\n",
        "print(\"   - Sin restricciones\")\n",
        "print(\"   - Propenso a overfitting\")\n",
        "print(\"   - Alta precisión en training, baja en validation\")\n",
        "\n",
        "print(\"\\n2. ÁRBOL OPTIMIZADO (Best Tree - GridSearchCV)\")\n",
        "print(\"   - Con restricciones optimizadas\")\n",
        "print(\"   - Balance entre precisión y generalización\")\n",
        "print(\"   - Mejor rendimiento en validation\")\n",
        "\n",
        "print(\"\\n3. RANDOM FOREST\")\n",
        "print(\"   - Conjunto de 500 árboles\")\n",
        "print(\"   - Mayor robustez\")\n",
        "print(\"   - Generalmente mejor rendimiento\")\n",
        "print(\"   - Más lento de entrenar pero más rápido de predecir\")\n",
        "\n",
        "print(\"\\n✅ Notebook completado exitosamente!\")\n"
      ]
    }
  ],
  "metadata": {
    "kernelspec": {
      "display_name": "Python 3",
      "language": "python",
      "name": "python3"
    },
    "language_info": {
      "codemirror_mode": {
        "name": "ipython",
        "version": 3
      },
      "file_extension": ".py",
      "mimetype": "text/x-python",
      "name": "python",
      "nbconvert_exporter": "python",
      "pygments_lexer": "ipython3",
      "version": "3.11.5"
    }
  },
  "nbformat": 4,
  "nbformat_minor": 2
}
