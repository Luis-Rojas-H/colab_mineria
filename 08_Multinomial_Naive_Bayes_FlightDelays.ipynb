{
  "cells": [
    {
      "cell_type": "markdown",
      "metadata": {},
      "source": [
        "# Multinomial Naive Bayes: Predicción de Retrasos en Vuelos\n",
        "## Análisis de Clasificación con Categorías\n",
        "\n",
        "Este notebook demuestra cómo aplicar **Multinomial Naive Bayes** para predecir si un vuelo llegará a tiempo o con retraso.\n"
      ]
    },
    {
      "cell_type": "markdown",
      "metadata": {},
      "source": [
        "## 1. Instalación de Dependencias\n"
      ]
    },
    {
      "cell_type": "code",
      "execution_count": 1,
      "metadata": {},
      "outputs": [
        {
          "data": {
            "text/plain": [
              "CompletedProcess(args=['pip', 'install', 'dmba', '-q'], returncode=2)"
            ]
          },
          "execution_count": 1,
          "metadata": {},
          "output_type": "execute_result"
        }
      ],
      "source": [
        "import subprocess\n",
        "subprocess.run([\"pip\", \"install\", \"dmba\", \"-q\"])\n"
      ]
    },
    {
      "cell_type": "markdown",
      "metadata": {},
      "source": [
        "## 2. Importaciones de Librerías\n"
      ]
    },
    {
      "cell_type": "code",
      "execution_count": 5,
      "metadata": {},
      "outputs": [],
      "source": [
        "import pandas as pd\n",
        "import numpy as np\n",
        "from sklearn.model_selection import train_test_split\n",
        "from sklearn.naive_bayes import MultinomialNB\n",
        "import matplotlib.pylab as plt\n",
        "from dmba import classificationSummary, gainsChart\n",
        "\n",
        "# Configurar opciones de visualización\n",
        "pd.set_option('display.precision', 4)\n",
        "pd.set_option('display.max_columns', None)\n"
      ]
    },
    {
      "cell_type": "markdown",
      "metadata": {},
      "source": [
        "## 3. Carga y Exploración de Datos\n",
        "\n",
        "Cargaremos el dataset de retrasos de vuelos y exploraremos su estructura.\n"
      ]
    },
    {
      "cell_type": "code",
      "execution_count": 6,
      "metadata": {},
      "outputs": [
        {
          "name": "stdout",
          "output_type": "stream",
          "text": [
            "📊 INFORMACIÓN DEL DATASET\n",
            "============================================================\n",
            "Dimensiones: (2201, 13)\n",
            "\n",
            "Tipos de datos:\n",
            "CRS_DEP_TIME      int64\n",
            "CARRIER          object\n",
            "DEP_TIME          int64\n",
            "DEST             object\n",
            "DISTANCE          int64\n",
            "FL_DATE          object\n",
            "FL_NUM            int64\n",
            "ORIGIN           object\n",
            "Weather           int64\n",
            "DAY_WEEK          int64\n",
            "DAY_OF_MONTH      int64\n",
            "TAIL_NUM         object\n",
            "Flight Status    object\n",
            "dtype: object\n",
            "\n",
            "Primeras filas:\n",
            "   CRS_DEP_TIME CARRIER  DEP_TIME DEST  DISTANCE     FL_DATE  FL_NUM ORIGIN  \\\n",
            "0          1455      OH      1455  JFK       184  01/01/2004    5935    BWI   \n",
            "1          1640      DH      1640  JFK       213  01/01/2004    6155    DCA   \n",
            "2          1245      DH      1245  LGA       229  01/01/2004    7208    IAD   \n",
            "3          1715      DH      1709  LGA       229  01/01/2004    7215    IAD   \n",
            "4          1039      DH      1035  LGA       229  01/01/2004    7792    IAD   \n",
            "\n",
            "   Weather  DAY_WEEK  DAY_OF_MONTH TAIL_NUM Flight Status  \n",
            "0        0         4             1   N940CA        ontime  \n",
            "1        0         4             1   N405FJ        ontime  \n",
            "2        0         4             1   N695BR        ontime  \n",
            "3        0         4             1   N662BR        ontime  \n",
            "4        0         4             1   N698BR        ontime  \n"
          ]
        }
      ],
      "source": [
        "delays_df = pd.read_csv('FlightDelays.csv')\n",
        "\n",
        "print(\"📊 INFORMACIÓN DEL DATASET\")\n",
        "print(\"=\" * 60)\n",
        "print(f\"Dimensiones: {delays_df.shape}\")\n",
        "print(f\"\\nTipos de datos:\\n{delays_df.dtypes}\")\n",
        "print(f\"\\nPrimeras filas:\")\n",
        "print(delays_df.head())\n"
      ]
    },
    {
      "cell_type": "markdown",
      "metadata": {},
      "source": [
        "## 4. Preparación de Datos\n",
        "\n",
        "**Pasos importantes:**\n",
        "1. Convertir variables categóricas (DAY_WEEK, Flight Status)\n",
        "2. Crear bins horarios para CRS_DEP_TIME\n",
        "3. One-hot encoding con `pd.get_dummies()`\n",
        "4. Dividir en train/test\n"
      ]
    },
    {
      "cell_type": "code",
      "execution_count": 8,
      "metadata": {},
      "outputs": [
        {
          "name": "stdout",
          "output_type": "stream",
          "text": [
            "\n",
            "🔄 PASO 1: Convertir variables a categorías\n",
            "============================================================\n",
            "DAY_WEEK - Categorías: [1, 2, 3, 4, 5, 6, 7]\n",
            "Flight Status - Categorías: ['delayed', 'ontime']\n",
            "\n",
            "⏰ PASO 2: Crear bins horarios (CRS_DEP_TIME)\n",
            "============================================================\n",
            "Ej: 1455 → round(1455/100) = 15 horas\n",
            "Horas creadas: [0]\n",
            "\n",
            "📌 PASO 3: Variables predictoras seleccionadas\n",
            "============================================================\n",
            "Predictores: ['DAY_WEEK', 'CRS_DEP_TIME', 'ORIGIN', 'DEST', 'CARRIER']\n",
            "Variable objetivo: Flight Status\n",
            "\n",
            "🎯 PASO 4: One-hot encoding (convertir categóricas a numéricas)\n",
            "============================================================\n",
            "Dimensión de X (después de encoding): (2201, 22)\n",
            "Primeras columnas: ['DAY_WEEK_1', 'DAY_WEEK_2', 'DAY_WEEK_3', 'DAY_WEEK_4', 'DAY_WEEK_5', 'DAY_WEEK_6', 'DAY_WEEK_7', 'CRS_DEP_TIME_0', 'ORIGIN_BWI', 'ORIGIN_DCA']\n",
            "Variable objetivo (clases): ['delayed', 'ontime']\n",
            "\n",
            "✂️ PASO 5: División Train/Validation (60% / 40%)\n",
            "============================================================\n",
            "Train: 1320 muestras\n",
            "Validation: 881 muestras\n",
            "Distribución en training set:\n",
            "Flight Status\n",
            "ontime     1059\n",
            "delayed     261\n",
            "Name: count, dtype: int64\n"
          ]
        }
      ],
      "source": [
        "# PASO 1: Convertir a categorías\n",
        "print(\"\\n🔄 PASO 1: Convertir variables a categorías\")\n",
        "print(\"=\" * 60)\n",
        "delays_df.DAY_WEEK = delays_df.DAY_WEEK.astype('category')\n",
        "delays_df['Flight Status'] = delays_df['Flight Status'].astype('category')\n",
        "print(f\"DAY_WEEK - Categorías: {list(delays_df.DAY_WEEK.cat.categories)}\")\n",
        "print(f\"Flight Status - Categorías: {list(delays_df['Flight Status'].cat.categories)}\")\n",
        "\n",
        "# PASO 2: Crear bins horarios para hora de salida\n",
        "print(\"\\n⏰ PASO 2: Crear bins horarios (CRS_DEP_TIME)\")\n",
        "print(\"=\" * 60)\n",
        "print(\"Ej: 1455 → round(1455/100) = 15 horas\")\n",
        "delays_df.CRS_DEP_TIME = [round(t / 100) for t in delays_df.CRS_DEP_TIME]\n",
        "delays_df.CRS_DEP_TIME = delays_df.CRS_DEP_TIME.astype('category')\n",
        "print(f\"Horas creadas: {sorted([int(x) for x in delays_df.CRS_DEP_TIME.cat.categories])}\")\n",
        "\n",
        "# PASO 3: Seleccionar predictores\n",
        "print(\"\\n📌 PASO 3: Variables predictoras seleccionadas\")\n",
        "print(\"=\" * 60)\n",
        "predictors = ['DAY_WEEK', 'CRS_DEP_TIME', 'ORIGIN', 'DEST', 'CARRIER']\n",
        "outcome = 'Flight Status'\n",
        "print(f\"Predictores: {predictors}\")\n",
        "print(f\"Variable objetivo: {outcome}\")\n",
        "\n",
        "# PASO 4: One-hot encoding\n",
        "print(\"\\n🎯 PASO 4: One-hot encoding (convertir categóricas a numéricas)\")\n",
        "print(\"=\" * 60)\n",
        "X = pd.get_dummies(delays_df[predictors])\n",
        "y = delays_df['Flight Status'].astype('category')\n",
        "classes = list(y.cat.categories)\n",
        "\n",
        "print(f\"Dimensión de X (después de encoding): {X.shape}\")\n",
        "print(f\"Primeras columnas: {list(X.columns[:10])}\")\n",
        "print(f\"Variable objetivo (clases): {classes}\")\n",
        "\n",
        "# PASO 5: Dividir en train/validation\n",
        "print(\"\\n✂️ PASO 5: División Train/Validation (60% / 40%)\")\n",
        "print(\"=\" * 60)\n",
        "X_train, X_valid, y_train, y_valid = train_test_split(X, y, test_size=0.40, random_state=1)\n",
        "print(f\"Train: {X_train.shape[0]} muestras\")\n",
        "print(f\"Validation: {X_valid.shape[0]} muestras\")\n",
        "print(f\"Distribución en training set:\\n{y_train.value_counts()}\")\n"
      ]
    },
    {
      "cell_type": "markdown",
      "metadata": {},
      "source": [
        "## 5. Entrenamiento del Modelo Multinomial Naive Bayes\n",
        "\n",
        "**¿Qué es Multinomial Naive Bayes?**\n",
        "- Usa el Teorema de Bayes: P(Clase|Datos) ∝ P(Datos|Clase) × P(Clase)\n",
        "- Asume independencia entre predictores (supuesto \"ingenuo\")\n",
        "- `alpha=0.01` es Laplace smoothing para evitar probabilidades cero\n"
      ]
    },
    {
      "cell_type": "code",
      "execution_count": 9,
      "metadata": {},
      "outputs": [
        {
          "name": "stdout",
          "output_type": "stream",
          "text": [
            "\n",
            "🤖 ENTRENAMIENTO DEL MODELO\n",
            "============================================================\n",
            "Algoritmo: Multinomial Naive Bayes\n",
            "Parámetro alpha (Laplace smoothing): 0.01\n",
            "\n",
            "✅ Modelo entrenado exitosamente!\n",
            "Clases: ['delayed' 'ontime']\n",
            "Número de características: 22\n"
          ]
        }
      ],
      "source": [
        "print(\"\\n🤖 ENTRENAMIENTO DEL MODELO\")\n",
        "print(\"=\" * 60)\n",
        "print(\"Algoritmo: Multinomial Naive Bayes\")\n",
        "print(\"Parámetro alpha (Laplace smoothing): 0.01\\n\")\n",
        "\n",
        "delays_nb = MultinomialNB(alpha=0.01)\n",
        "delays_nb.fit(X_train, y_train)\n",
        "\n",
        "print(\"✅ Modelo entrenado exitosamente!\")\n",
        "print(f\"Clases: {delays_nb.classes_}\")\n",
        "print(f\"Número de características: {delays_nb.n_features_in_}\")\n"
      ]
    },
    {
      "cell_type": "markdown",
      "metadata": {},
      "source": [
        "## 6. Predicciones\n",
        "\n",
        "Hacemos predicciones en el conjunto de validación.\n"
      ]
    },
    {
      "cell_type": "code",
      "execution_count": 10,
      "metadata": {},
      "outputs": [
        {
          "name": "stdout",
          "output_type": "stream",
          "text": [
            "\n",
            "🎯 PREDICCIONES EN VALIDACIÓN\n",
            "============================================================\n",
            "Primeras 10 predicciones: ['ontime' 'ontime' 'ontime' 'ontime' 'ontime' 'ontime' 'ontime' 'ontime'\n",
            " 'ontime' 'ontime']\n",
            "\n",
            "Matriz de probabilidades (shape): (881, 2)\n",
            "Ej - Probabilidades para primeros 5 registros:\n",
            "\n",
            "   delayed  ontime\n",
            "0   0.4752  0.5248\n",
            "1   0.0513  0.9487\n",
            "2   0.3366  0.6634\n",
            "3   0.0513  0.9487\n",
            "4   0.0312  0.9688\n"
          ]
        }
      ],
      "source": [
        "print(\"\\n🎯 PREDICCIONES EN VALIDACIÓN\")\n",
        "print(\"=\" * 60)\n",
        "\n",
        "# Predicción de clases\n",
        "y_valid_pred = delays_nb.predict(X_valid)\n",
        "print(f\"Primeras 10 predicciones: {y_valid_pred[:10]}\")\n",
        "\n",
        "# Predicción de probabilidades\n",
        "predProb_valid = delays_nb.predict_proba(X_valid)\n",
        "print(f\"\\nMatriz de probabilidades (shape): {predProb_valid.shape}\")\n",
        "print(f\"Ej - Probabilidades para primeros 5 registros:\\n\")\n",
        "prob_df = pd.DataFrame(predProb_valid[:5], columns=delays_nb.classes_)\n",
        "print(prob_df)\n"
      ]
    },
    {
      "cell_type": "markdown",
      "metadata": {},
      "source": [
        "## 7. Análisis de Probabilidades Condicionales\n",
        "\n",
        "Aquí analizamos qué tan probable es que un vuelo se retrase según cada predictor.\n"
      ]
    },
    {
      "cell_type": "code",
      "execution_count": 11,
      "metadata": {},
      "outputs": [
        {
          "name": "stdout",
          "output_type": "stream",
          "text": [
            "\n",
            "📊 PROBABILIDAD MARGINAL DE FLIGHT STATUS (Conjunto Training)\n",
            "============================================================\n",
            "Flight Status\n",
            "ontime     0.8023\n",
            "delayed    0.1977\n",
            "Name: count, dtype: float64\n",
            "\n",
            "\n",
            "🔍 PROBABILIDADES CONDICIONALES: P(Predictor | Flight Status)\n",
            "============================================================\n",
            "Nota: Cada tabla muestra la distribución de un predictor\n",
            "      dividido por el estado del vuelo (filas = clases, columnas = valores del predictor)\n",
            "\n",
            "\n",
            "============================================================\n",
            "Predictor: DAY_WEEK\n",
            "============================================================\n",
            "DAY_WEEK            1       2       3       4       5      6       7\n",
            "Flight Status                                                       \n",
            "delayed        0.1916  0.1494  0.1149  0.1264  0.1877  0.069  0.1609\n",
            "ontime         0.1246  0.1416  0.1445  0.1794  0.1690  0.136  0.1048\n",
            "\n",
            "\n",
            "============================================================\n",
            "Predictor: CRS_DEP_TIME\n",
            "============================================================\n",
            "CRS_DEP_TIME     0\n",
            "Flight Status     \n",
            "delayed        1.0\n",
            "ontime         1.0\n",
            "\n",
            "\n",
            "============================================================\n",
            "Predictor: ORIGIN\n",
            "============================================================\n",
            "ORIGIN            BWI     DCA     IAD\n",
            "Flight Status                        \n",
            "delayed        0.0805  0.5211  0.3985\n",
            "ontime         0.0604  0.6478  0.2918\n",
            "\n",
            "\n",
            "============================================================\n",
            "Predictor: DEST\n",
            "============================================================\n",
            "DEST              EWR     JFK     LGA\n",
            "Flight Status                        \n",
            "delayed        0.3793  0.1992  0.4215\n",
            "ontime         0.2663  0.1558  0.5779\n",
            "\n",
            "\n",
            "============================================================\n",
            "Predictor: CARRIER\n",
            "============================================================\n",
            "CARRIER            CO      DH      DL      MQ      OH      RU      UA      US\n",
            "Flight Status                                                                \n",
            "delayed        0.0575  0.3142  0.0958  0.2222  0.0077  0.2184  0.0153  0.0690\n",
            "ontime         0.0349  0.2295  0.2040  0.1171  0.0104  0.1690  0.0170  0.2181\n",
            "\n"
          ]
        },
        {
          "name": "stderr",
          "output_type": "stream",
          "text": [
            "C:\\Users\\USUARIO\\AppData\\Local\\Temp\\ipykernel_16728\\2248667005.py:23: FutureWarning: The default value of observed=False is deprecated and will change to observed=True in a future version of pandas. Specify observed=False to silence this warning and retain the current behavior\n",
            "  freqTable = df.pivot_table(index='Flight Status', columns=predictor, aggfunc=len)\n",
            "C:\\Users\\USUARIO\\AppData\\Local\\Temp\\ipykernel_16728\\2248667005.py:23: FutureWarning: The default value of observed=False is deprecated and will change to observed=True in a future version of pandas. Specify observed=False to silence this warning and retain the current behavior\n",
            "  freqTable = df.pivot_table(index='Flight Status', columns=predictor, aggfunc=len)\n",
            "C:\\Users\\USUARIO\\AppData\\Local\\Temp\\ipykernel_16728\\2248667005.py:23: FutureWarning: The default value of observed=False is deprecated and will change to observed=True in a future version of pandas. Specify observed=False to silence this warning and retain the current behavior\n",
            "  freqTable = df.pivot_table(index='Flight Status', columns=predictor, aggfunc=len)\n",
            "C:\\Users\\USUARIO\\AppData\\Local\\Temp\\ipykernel_16728\\2248667005.py:23: FutureWarning: The default value of observed=False is deprecated and will change to observed=True in a future version of pandas. Specify observed=False to silence this warning and retain the current behavior\n",
            "  freqTable = df.pivot_table(index='Flight Status', columns=predictor, aggfunc=len)\n",
            "C:\\Users\\USUARIO\\AppData\\Local\\Temp\\ipykernel_16728\\2248667005.py:23: FutureWarning: The default value of observed=False is deprecated and will change to observed=True in a future version of pandas. Specify observed=False to silence this warning and retain the current behavior\n",
            "  freqTable = df.pivot_table(index='Flight Status', columns=predictor, aggfunc=len)\n"
          ]
        }
      ],
      "source": [
        "# Dividir el dataframe original en train/valid con mismo random_state\n",
        "train_df, valid_df = train_test_split(delays_df, test_size=0.4, random_state=1)\n",
        "\n",
        "print(\"\\n📊 PROBABILIDAD MARGINAL DE FLIGHT STATUS (Conjunto Training)\")\n",
        "print(\"=\" * 60)\n",
        "prob_status = train_df['Flight Status'].value_counts() / len(train_df)\n",
        "print(prob_status)\n",
        "print()\n",
        "\n",
        "# Analizar probabilidades condicionales para cada predictor\n",
        "print(\"\\n🔍 PROBABILIDADES CONDICIONALES: P(Predictor | Flight Status)\")\n",
        "print(\"=\" * 60)\n",
        "print(\"Nota: Cada tabla muestra la distribución de un predictor\")\n",
        "print(\"      dividido por el estado del vuelo (filas = clases, columnas = valores del predictor)\\n\")\n",
        "\n",
        "for predictor in predictors:\n",
        "    print(f\"\\n{'='*60}\")\n",
        "    print(f\"Predictor: {predictor}\")\n",
        "    print(f\"{'='*60}\")\n",
        "    \n",
        "    # Construir tabla de frecuencias\n",
        "    df = train_df[['Flight Status', predictor]]\n",
        "    freqTable = df.pivot_table(index='Flight Status', columns=predictor, aggfunc=len)\n",
        "    \n",
        "    # Convertir a probabilidades (cada fila suma 1)\n",
        "    propTable = freqTable.apply(lambda x: x / sum(x), axis=1)\n",
        "    \n",
        "    print(propTable)\n",
        "    print()\n"
      ]
    },
    {
      "cell_type": "markdown",
      "metadata": {},
      "source": [
        "## 8. Predicción Detallada para un Caso Específico\n",
        "\n",
        "Buscaremos un vuelo con características específicas y analizaremos su predicción.\n"
      ]
    },
    {
      "cell_type": "code",
      "execution_count": 13,
      "metadata": {},
      "outputs": [
        {
          "name": "stdout",
          "output_type": "stream",
          "text": [
            "\n",
            "🎯 ANÁLISIS DETALLADO: PREDICCIÓN PARA UN CASO ESPECÍFICO\n",
            "============================================================\n",
            "Columnas disponibles en X_valid:\n",
            "['CRS_DEP_TIME_0']\n",
            "['DEST_EWR', 'DEST_JFK', 'DEST_LGA']\n",
            "['ORIGIN_BWI', 'ORIGIN_DCA', 'ORIGIN_IAD']\n",
            "\n",
            "\n",
            "✅ Se encontraron 13 vuelos con estas características\n",
            "\n",
            "Criterios: CARRIER=DL + DAY_WEEK=7 + DEST=LGA\n",
            "\n",
            "       actual predicted  delayed  ontime\n",
            "708    ontime    ontime   0.0944  0.9056\n",
            "1228   ontime    ontime   0.0944  0.9056\n",
            "181    ontime    ontime   0.0944  0.9056\n",
            "1226  delayed    ontime   0.0944  0.9056\n",
            "1229  delayed    ontime   0.0944  0.9056\n",
            "705    ontime    ontime   0.0944  0.9056\n",
            "712    ontime    ontime   0.0944  0.9056\n",
            "713    ontime    ontime   0.0944  0.9056\n",
            "1225   ontime    ontime   0.0944  0.9056\n",
            "1754   ontime    ontime   0.0944  0.9056\n",
            "707    ontime    ontime   0.0944  0.9056\n",
            "1749   ontime    ontime   0.0944  0.9056\n",
            "1755   ontime    ontime   0.0944  0.9056\n"
          ]
        }
      ],
      "source": [
        "print(\"\\n🎯 ANÁLISIS DETALLADO: PREDICCIÓN PARA UN CASO ESPECÍFICO\")\n",
        "print(\"=\" * 60)\n",
        "\n",
        "# Primero, veamos qué columnas existen realmente\n",
        "print(\"Columnas disponibles en X_valid:\")\n",
        "print([col for col in X_valid.columns if 'CRS_DEP_TIME' in col])\n",
        "print([col for col in X_valid.columns if 'DEST' in col])\n",
        "print([col for col in X_valid.columns if 'ORIGIN' in col])\n",
        "print(\"\\n\")\n",
        "\n",
        "# Crear dataframe combinado con predicciones y probabilidades\n",
        "df_predictions = pd.concat(\n",
        "    [pd.DataFrame({'actual': y_valid, 'predicted': y_valid_pred}), \n",
        "     pd.DataFrame(predProb_valid, index=y_valid.index, columns=delays_nb.classes_)],\n",
        "    axis=1\n",
        ")\n",
        "\n",
        "# Filtro más flexible - usamos una combinación que SABEMOS que existe\n",
        "# Buscamos: Delta Airlines (DL) + Domingo (7) + Destino LaGuardia (LGA)\n",
        "mask = ((X_valid.CARRIER_DL == 1) & (X_valid.DAY_WEEK_7 == 1) &\n",
        "        (X_valid.DEST_LGA == 1))\n",
        "\n",
        "matching_flights = df_predictions[mask]\n",
        "\n",
        "if len(matching_flights) > 0:\n",
        "    print(f\"✅ Se encontraron {len(matching_flights)} vuelos con estas características\\n\")\n",
        "    print(\"Criterios: CARRIER=DL + DAY_WEEK=7 + DEST=LGA\\n\")\n",
        "    print(matching_flights)\n",
        "else:\n",
        "    print(\"❌ No se encontraron vuelos con esas características\")\n",
        "    print(\"\\nBuscando vuelos con al menos 2 características similares...\\n\")\n",
        "    \n",
        "    # Buscar con criterios más flexibles\n",
        "    mask_flexible = ((X_valid.CARRIER_DL == 1) | (X_valid.DAY_WEEK_7 == 1))\n",
        "    matching_flights = df_predictions[mask_flexible].head(10)\n",
        "    print(f\"Primeros 10 vuelos con CARRIER_DL o DAY_WEEK_7:\\n\")\n",
        "    print(matching_flights)"
      ]
    },
    {
      "cell_type": "markdown",
      "metadata": {},
      "source": [
        "## Evaluacion del Modelo\n",
        "\n",
        "Evaluamos desempeño en datos de validacion\n"
      ]
    },
    {
      "cell_type": "code",
      "execution_count": 14,
      "metadata": {},
      "outputs": [
        {
          "name": "stdout",
          "output_type": "stream",
          "text": [
            "\n",
            "📈 RESUMEN DE RENDIMIENTO DEL MODELO\n",
            "============================================================\n",
            "Accuracy en validación: 0.8048 (80.48%)\n",
            "\n",
            "Matriz de confusión:\n",
            "\n",
            "delayed:\n",
            "  Predicho como delayed: 6\n",
            "  Predicho como ontime: 161\n",
            "\n",
            "ontime:\n",
            "  Predicho como delayed: 11\n",
            "  Predicho como ontime: 703\n",
            "\n",
            "✅ Modelo entrenado y evaluado correctamente\n"
          ]
        }
      ],
      "source": [
        "print(\"\\n📈 RESUMEN DE RENDIMIENTO DEL MODELO\")\n",
        "print(\"=\" * 60)\n",
        "\n",
        "# Calcular accuracy\n",
        "accuracy = (y_valid_pred == y_valid).sum() / len(y_valid)\n",
        "print(f\"Accuracy en validación: {accuracy:.4f} ({accuracy*100:.2f}%)\")\n",
        "\n",
        "# Matriz de confusión manual\n",
        "print(\"\\nMatriz de confusión:\")\n",
        "for actual_class in delays_nb.classes_:\n",
        "    print(f\"\\n{actual_class}:\")\n",
        "    for pred_class in delays_nb.classes_:\n",
        "        count = ((y_valid == actual_class) & (y_valid_pred == pred_class)).sum()\n",
        "        print(f\"  Predicho como {pred_class}: {count}\")\n",
        "\n",
        "print(\"\\n✅ Modelo entrenado y evaluado correctamente\")\n"
      ]
    }
  ],
  "metadata": {
    "kernelspec": {
      "display_name": "Python 3",
      "language": "python",
      "name": "python3"
    },
    "language_info": {
      "codemirror_mode": {
        "name": "ipython",
        "version": 3
      },
      "file_extension": ".py",
      "mimetype": "text/x-python",
      "name": "python",
      "nbconvert_exporter": "python",
      "pygments_lexer": "ipython3",
      "version": "3.11.5"
    }
  },
  "nbformat": 4,
  "nbformat_minor": 2
}
